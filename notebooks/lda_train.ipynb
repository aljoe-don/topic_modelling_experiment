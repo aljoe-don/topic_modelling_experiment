{
 "cells": [
  {
   "cell_type": "markdown",
   "metadata": {},
   "source": [
    "# Overview\n",
    "\n",
    "The aim of this project is to classify a set text documents which has labels only for a small subset of the samples. Combing unsupervised soft clustering (topic modelling via LDA) with descriminative classiferies trained on the output imbeddings, the goal is to achieve high classifcation accuracy with as few labels as possible. \n"
   ]
  },
  {
   "cell_type": "code",
   "execution_count": 24,
   "metadata": {},
   "outputs": [
    {
     "name": "stderr",
     "output_type": "stream",
     "text": [
      "[nltk_data] Downloading collection 'all'\n",
      "[nltk_data]    | \n",
      "[nltk_data]    | Downloading package abc to\n",
      "[nltk_data]    |     /Users/amccart9/nltk_data...\n",
      "[nltk_data]    |   Unzipping corpora/abc.zip.\n",
      "[nltk_data]    | Downloading package alpino to\n",
      "[nltk_data]    |     /Users/amccart9/nltk_data...\n",
      "[nltk_data]    |   Unzipping corpora/alpino.zip.\n",
      "[nltk_data]    | Downloading package biocreative_ppi to\n",
      "[nltk_data]    |     /Users/amccart9/nltk_data...\n",
      "[nltk_data]    |   Unzipping corpora/biocreative_ppi.zip.\n",
      "[nltk_data]    | Downloading package brown to\n",
      "[nltk_data]    |     /Users/amccart9/nltk_data...\n",
      "[nltk_data]    |   Unzipping corpora/brown.zip.\n",
      "[nltk_data]    | Downloading package brown_tei to\n",
      "[nltk_data]    |     /Users/amccart9/nltk_data...\n",
      "[nltk_data]    |   Unzipping corpora/brown_tei.zip.\n",
      "[nltk_data]    | Downloading package cess_cat to\n",
      "[nltk_data]    |     /Users/amccart9/nltk_data...\n",
      "[nltk_data]    |   Unzipping corpora/cess_cat.zip.\n",
      "[nltk_data]    | Downloading package cess_esp to\n",
      "[nltk_data]    |     /Users/amccart9/nltk_data...\n",
      "[nltk_data]    |   Unzipping corpora/cess_esp.zip.\n",
      "[nltk_data]    | Downloading package chat80 to\n",
      "[nltk_data]    |     /Users/amccart9/nltk_data...\n",
      "[nltk_data]    |   Unzipping corpora/chat80.zip.\n",
      "[nltk_data]    | Downloading package city_database to\n",
      "[nltk_data]    |     /Users/amccart9/nltk_data...\n",
      "[nltk_data]    |   Unzipping corpora/city_database.zip.\n",
      "[nltk_data]    | Downloading package cmudict to\n",
      "[nltk_data]    |     /Users/amccart9/nltk_data...\n",
      "[nltk_data]    |   Unzipping corpora/cmudict.zip.\n",
      "[nltk_data]    | Downloading package comparative_sentences to\n",
      "[nltk_data]    |     /Users/amccart9/nltk_data...\n",
      "[nltk_data]    |   Unzipping corpora/comparative_sentences.zip.\n",
      "[nltk_data]    | Downloading package comtrans to\n",
      "[nltk_data]    |     /Users/amccart9/nltk_data...\n",
      "[nltk_data]    | Downloading package conll2000 to\n",
      "[nltk_data]    |     /Users/amccart9/nltk_data...\n",
      "[nltk_data]    |   Unzipping corpora/conll2000.zip.\n",
      "[nltk_data]    | Downloading package conll2002 to\n",
      "[nltk_data]    |     /Users/amccart9/nltk_data...\n",
      "[nltk_data]    |   Unzipping corpora/conll2002.zip.\n",
      "[nltk_data]    | Downloading package conll2007 to\n",
      "[nltk_data]    |     /Users/amccart9/nltk_data...\n",
      "[nltk_data]    | Downloading package crubadan to\n",
      "[nltk_data]    |     /Users/amccart9/nltk_data...\n",
      "[nltk_data]    |   Unzipping corpora/crubadan.zip.\n",
      "[nltk_data]    | Downloading package dependency_treebank to\n",
      "[nltk_data]    |     /Users/amccart9/nltk_data...\n",
      "[nltk_data]    |   Unzipping corpora/dependency_treebank.zip.\n",
      "[nltk_data]    | Downloading package dolch to\n",
      "[nltk_data]    |     /Users/amccart9/nltk_data...\n",
      "[nltk_data]    |   Unzipping corpora/dolch.zip.\n",
      "[nltk_data]    | Downloading package europarl_raw to\n",
      "[nltk_data]    |     /Users/amccart9/nltk_data...\n",
      "[nltk_data]    |   Unzipping corpora/europarl_raw.zip.\n",
      "[nltk_data]    | Downloading package floresta to\n",
      "[nltk_data]    |     /Users/amccart9/nltk_data...\n",
      "[nltk_data]    |   Unzipping corpora/floresta.zip.\n",
      "[nltk_data]    | Downloading package framenet_v15 to\n",
      "[nltk_data]    |     /Users/amccart9/nltk_data...\n",
      "[nltk_data]    |   Unzipping corpora/framenet_v15.zip.\n",
      "[nltk_data]    | Downloading package framenet_v17 to\n",
      "[nltk_data]    |     /Users/amccart9/nltk_data...\n",
      "[nltk_data]    |   Unzipping corpora/framenet_v17.zip.\n",
      "[nltk_data]    | Downloading package gazetteers to\n",
      "[nltk_data]    |     /Users/amccart9/nltk_data...\n",
      "[nltk_data]    |   Unzipping corpora/gazetteers.zip.\n",
      "[nltk_data]    | Downloading package genesis to\n",
      "[nltk_data]    |     /Users/amccart9/nltk_data...\n",
      "[nltk_data]    |   Unzipping corpora/genesis.zip.\n",
      "[nltk_data]    | Downloading package gutenberg to\n",
      "[nltk_data]    |     /Users/amccart9/nltk_data...\n",
      "[nltk_data]    |   Unzipping corpora/gutenberg.zip.\n",
      "[nltk_data]    | Downloading package ieer to\n",
      "[nltk_data]    |     /Users/amccart9/nltk_data...\n",
      "[nltk_data]    |   Unzipping corpora/ieer.zip.\n",
      "[nltk_data]    | Downloading package inaugural to\n",
      "[nltk_data]    |     /Users/amccart9/nltk_data...\n",
      "[nltk_data]    |   Unzipping corpora/inaugural.zip.\n",
      "[nltk_data]    | Downloading package indian to\n",
      "[nltk_data]    |     /Users/amccart9/nltk_data...\n",
      "[nltk_data]    |   Unzipping corpora/indian.zip.\n",
      "[nltk_data]    | Downloading package jeita to\n",
      "[nltk_data]    |     /Users/amccart9/nltk_data...\n",
      "[nltk_data]    | Downloading package kimmo to\n",
      "[nltk_data]    |     /Users/amccart9/nltk_data...\n",
      "[nltk_data]    |   Unzipping corpora/kimmo.zip.\n",
      "[nltk_data]    | Downloading package knbc to\n",
      "[nltk_data]    |     /Users/amccart9/nltk_data...\n",
      "[nltk_data]    | Downloading package lin_thesaurus to\n",
      "[nltk_data]    |     /Users/amccart9/nltk_data...\n",
      "[nltk_data]    |   Unzipping corpora/lin_thesaurus.zip.\n",
      "[nltk_data]    | Downloading package mac_morpho to\n",
      "[nltk_data]    |     /Users/amccart9/nltk_data...\n",
      "[nltk_data]    |   Unzipping corpora/mac_morpho.zip.\n",
      "[nltk_data]    | Downloading package machado to\n",
      "[nltk_data]    |     /Users/amccart9/nltk_data...\n",
      "[nltk_data]    | Downloading package masc_tagged to\n",
      "[nltk_data]    |     /Users/amccart9/nltk_data...\n",
      "[nltk_data]    | Downloading package moses_sample to\n",
      "[nltk_data]    |     /Users/amccart9/nltk_data...\n",
      "[nltk_data]    |   Unzipping models/moses_sample.zip.\n",
      "[nltk_data]    | Downloading package movie_reviews to\n",
      "[nltk_data]    |     /Users/amccart9/nltk_data...\n",
      "[nltk_data]    |   Unzipping corpora/movie_reviews.zip.\n",
      "[nltk_data]    | Downloading package names to\n",
      "[nltk_data]    |     /Users/amccart9/nltk_data...\n",
      "[nltk_data]    |   Unzipping corpora/names.zip.\n",
      "[nltk_data]    | Downloading package nombank.1.0 to\n",
      "[nltk_data]    |     /Users/amccart9/nltk_data...\n",
      "[nltk_data]    | Downloading package nps_chat to\n",
      "[nltk_data]    |     /Users/amccart9/nltk_data...\n",
      "[nltk_data]    |   Unzipping corpora/nps_chat.zip.\n",
      "[nltk_data]    | Downloading package omw to\n",
      "[nltk_data]    |     /Users/amccart9/nltk_data...\n",
      "[nltk_data]    |   Unzipping corpora/omw.zip.\n",
      "[nltk_data]    | Downloading package opinion_lexicon to\n",
      "[nltk_data]    |     /Users/amccart9/nltk_data...\n",
      "[nltk_data]    |   Unzipping corpora/opinion_lexicon.zip.\n",
      "[nltk_data]    | Downloading package paradigms to\n",
      "[nltk_data]    |     /Users/amccart9/nltk_data...\n",
      "[nltk_data]    |   Unzipping corpora/paradigms.zip.\n",
      "[nltk_data]    | Downloading package pil to\n",
      "[nltk_data]    |     /Users/amccart9/nltk_data...\n",
      "[nltk_data]    |   Unzipping corpora/pil.zip.\n",
      "[nltk_data]    | Downloading package pl196x to\n",
      "[nltk_data]    |     /Users/amccart9/nltk_data...\n",
      "[nltk_data]    |   Unzipping corpora/pl196x.zip.\n",
      "[nltk_data]    | Downloading package ppattach to\n",
      "[nltk_data]    |     /Users/amccart9/nltk_data...\n",
      "[nltk_data]    |   Unzipping corpora/ppattach.zip.\n",
      "[nltk_data]    | Downloading package problem_reports to\n",
      "[nltk_data]    |     /Users/amccart9/nltk_data...\n",
      "[nltk_data]    |   Unzipping corpora/problem_reports.zip.\n",
      "[nltk_data]    | Downloading package propbank to\n",
      "[nltk_data]    |     /Users/amccart9/nltk_data...\n",
      "[nltk_data]    | Downloading package ptb to\n",
      "[nltk_data]    |     /Users/amccart9/nltk_data...\n",
      "[nltk_data]    |   Unzipping corpora/ptb.zip.\n",
      "[nltk_data]    | Downloading package product_reviews_1 to\n",
      "[nltk_data]    |     /Users/amccart9/nltk_data...\n",
      "[nltk_data]    |   Unzipping corpora/product_reviews_1.zip.\n",
      "[nltk_data]    | Downloading package product_reviews_2 to\n",
      "[nltk_data]    |     /Users/amccart9/nltk_data...\n",
      "[nltk_data]    |   Unzipping corpora/product_reviews_2.zip.\n",
      "[nltk_data]    | Downloading package pros_cons to\n",
      "[nltk_data]    |     /Users/amccart9/nltk_data...\n",
      "[nltk_data]    |   Unzipping corpora/pros_cons.zip.\n",
      "[nltk_data]    | Downloading package qc to\n",
      "[nltk_data]    |     /Users/amccart9/nltk_data...\n",
      "[nltk_data]    |   Unzipping corpora/qc.zip.\n",
      "[nltk_data]    | Downloading package reuters to\n",
      "[nltk_data]    |     /Users/amccart9/nltk_data...\n",
      "[nltk_data]    | Downloading package rte to\n",
      "[nltk_data]    |     /Users/amccart9/nltk_data...\n",
      "[nltk_data]    |   Unzipping corpora/rte.zip.\n",
      "[nltk_data]    | Downloading package semcor to\n",
      "[nltk_data]    |     /Users/amccart9/nltk_data...\n",
      "[nltk_data]    | Downloading package senseval to\n",
      "[nltk_data]    |     /Users/amccart9/nltk_data...\n",
      "[nltk_data]    |   Unzipping corpora/senseval.zip.\n",
      "[nltk_data]    | Downloading package sentiwordnet to\n",
      "[nltk_data]    |     /Users/amccart9/nltk_data...\n"
     ]
    },
    {
     "name": "stderr",
     "output_type": "stream",
     "text": [
      "[nltk_data]    |   Unzipping corpora/sentiwordnet.zip.\n",
      "[nltk_data]    | Downloading package sentence_polarity to\n",
      "[nltk_data]    |     /Users/amccart9/nltk_data...\n",
      "[nltk_data]    |   Unzipping corpora/sentence_polarity.zip.\n",
      "[nltk_data]    | Downloading package shakespeare to\n",
      "[nltk_data]    |     /Users/amccart9/nltk_data...\n",
      "[nltk_data]    |   Unzipping corpora/shakespeare.zip.\n",
      "[nltk_data]    | Downloading package sinica_treebank to\n",
      "[nltk_data]    |     /Users/amccart9/nltk_data...\n",
      "[nltk_data]    |   Unzipping corpora/sinica_treebank.zip.\n",
      "[nltk_data]    | Downloading package smultron to\n",
      "[nltk_data]    |     /Users/amccart9/nltk_data...\n",
      "[nltk_data]    |   Unzipping corpora/smultron.zip.\n",
      "[nltk_data]    | Downloading package state_union to\n",
      "[nltk_data]    |     /Users/amccart9/nltk_data...\n",
      "[nltk_data]    |   Unzipping corpora/state_union.zip.\n",
      "[nltk_data]    | Downloading package stopwords to\n",
      "[nltk_data]    |     /Users/amccart9/nltk_data...\n",
      "[nltk_data]    |   Unzipping corpora/stopwords.zip.\n",
      "[nltk_data]    | Downloading package subjectivity to\n",
      "[nltk_data]    |     /Users/amccart9/nltk_data...\n",
      "[nltk_data]    |   Unzipping corpora/subjectivity.zip.\n",
      "[nltk_data]    | Downloading package swadesh to\n",
      "[nltk_data]    |     /Users/amccart9/nltk_data...\n",
      "[nltk_data]    |   Unzipping corpora/swadesh.zip.\n",
      "[nltk_data]    | Downloading package switchboard to\n",
      "[nltk_data]    |     /Users/amccart9/nltk_data...\n",
      "[nltk_data]    |   Unzipping corpora/switchboard.zip.\n",
      "[nltk_data]    | Downloading package timit to\n",
      "[nltk_data]    |     /Users/amccart9/nltk_data...\n",
      "[nltk_data]    |   Unzipping corpora/timit.zip.\n",
      "[nltk_data]    | Downloading package toolbox to\n",
      "[nltk_data]    |     /Users/amccart9/nltk_data...\n",
      "[nltk_data]    |   Unzipping corpora/toolbox.zip.\n",
      "[nltk_data]    | Downloading package treebank to\n",
      "[nltk_data]    |     /Users/amccart9/nltk_data...\n",
      "[nltk_data]    |   Unzipping corpora/treebank.zip.\n",
      "[nltk_data]    | Downloading package twitter_samples to\n",
      "[nltk_data]    |     /Users/amccart9/nltk_data...\n",
      "[nltk_data]    |   Unzipping corpora/twitter_samples.zip.\n",
      "[nltk_data]    | Downloading package udhr to\n",
      "[nltk_data]    |     /Users/amccart9/nltk_data...\n",
      "[nltk_data]    |   Unzipping corpora/udhr.zip.\n",
      "[nltk_data]    | Downloading package udhr2 to\n",
      "[nltk_data]    |     /Users/amccart9/nltk_data...\n",
      "[nltk_data]    |   Unzipping corpora/udhr2.zip.\n",
      "[nltk_data]    | Downloading package unicode_samples to\n",
      "[nltk_data]    |     /Users/amccart9/nltk_data...\n",
      "[nltk_data]    |   Unzipping corpora/unicode_samples.zip.\n",
      "[nltk_data]    | Downloading package universal_treebanks_v20 to\n",
      "[nltk_data]    |     /Users/amccart9/nltk_data...\n",
      "[nltk_data]    | Downloading package verbnet to\n",
      "[nltk_data]    |     /Users/amccart9/nltk_data...\n",
      "[nltk_data]    |   Unzipping corpora/verbnet.zip.\n",
      "[nltk_data]    | Downloading package verbnet3 to\n",
      "[nltk_data]    |     /Users/amccart9/nltk_data...\n",
      "[nltk_data]    |   Unzipping corpora/verbnet3.zip.\n",
      "[nltk_data]    | Downloading package webtext to\n",
      "[nltk_data]    |     /Users/amccart9/nltk_data...\n",
      "[nltk_data]    |   Unzipping corpora/webtext.zip.\n",
      "[nltk_data]    | Downloading package wordnet to\n",
      "[nltk_data]    |     /Users/amccart9/nltk_data...\n",
      "[nltk_data]    |   Package wordnet is already up-to-date!\n",
      "[nltk_data]    | Downloading package wordnet_ic to\n",
      "[nltk_data]    |     /Users/amccart9/nltk_data...\n",
      "[nltk_data]    |   Unzipping corpora/wordnet_ic.zip.\n",
      "[nltk_data]    | Downloading package words to\n",
      "[nltk_data]    |     /Users/amccart9/nltk_data...\n",
      "[nltk_data]    |   Unzipping corpora/words.zip.\n",
      "[nltk_data]    | Downloading package ycoe to\n",
      "[nltk_data]    |     /Users/amccart9/nltk_data...\n",
      "[nltk_data]    |   Unzipping corpora/ycoe.zip.\n",
      "[nltk_data]    | Downloading package rslp to\n",
      "[nltk_data]    |     /Users/amccart9/nltk_data...\n",
      "[nltk_data]    |   Unzipping stemmers/rslp.zip.\n",
      "[nltk_data]    | Downloading package maxent_treebank_pos_tagger to\n",
      "[nltk_data]    |     /Users/amccart9/nltk_data...\n",
      "[nltk_data]    |   Unzipping taggers/maxent_treebank_pos_tagger.zip.\n",
      "[nltk_data]    | Downloading package universal_tagset to\n",
      "[nltk_data]    |     /Users/amccart9/nltk_data...\n",
      "[nltk_data]    |   Unzipping taggers/universal_tagset.zip.\n",
      "[nltk_data]    | Downloading package maxent_ne_chunker to\n",
      "[nltk_data]    |     /Users/amccart9/nltk_data...\n",
      "[nltk_data]    |   Unzipping chunkers/maxent_ne_chunker.zip.\n",
      "[nltk_data]    | Downloading package punkt to\n",
      "[nltk_data]    |     /Users/amccart9/nltk_data...\n",
      "[nltk_data]    |   Package punkt is already up-to-date!\n",
      "[nltk_data]    | Downloading package book_grammars to\n",
      "[nltk_data]    |     /Users/amccart9/nltk_data...\n",
      "[nltk_data]    |   Unzipping grammars/book_grammars.zip.\n",
      "[nltk_data]    | Downloading package sample_grammars to\n",
      "[nltk_data]    |     /Users/amccart9/nltk_data...\n",
      "[nltk_data]    |   Unzipping grammars/sample_grammars.zip.\n",
      "[nltk_data]    | Downloading package spanish_grammars to\n",
      "[nltk_data]    |     /Users/amccart9/nltk_data...\n",
      "[nltk_data]    |   Unzipping grammars/spanish_grammars.zip.\n",
      "[nltk_data]    | Downloading package basque_grammars to\n",
      "[nltk_data]    |     /Users/amccart9/nltk_data...\n",
      "[nltk_data]    |   Unzipping grammars/basque_grammars.zip.\n",
      "[nltk_data]    | Downloading package large_grammars to\n",
      "[nltk_data]    |     /Users/amccart9/nltk_data...\n",
      "[nltk_data]    |   Unzipping grammars/large_grammars.zip.\n",
      "[nltk_data]    | Downloading package tagsets to\n",
      "[nltk_data]    |     /Users/amccart9/nltk_data...\n",
      "[nltk_data]    |   Unzipping help/tagsets.zip.\n",
      "[nltk_data]    | Downloading package snowball_data to\n",
      "[nltk_data]    |     /Users/amccart9/nltk_data...\n",
      "[nltk_data]    | Downloading package bllip_wsj_no_aux to\n",
      "[nltk_data]    |     /Users/amccart9/nltk_data...\n",
      "[nltk_data]    |   Unzipping models/bllip_wsj_no_aux.zip.\n",
      "[nltk_data]    | Downloading package word2vec_sample to\n",
      "[nltk_data]    |     /Users/amccart9/nltk_data...\n",
      "[nltk_data]    |   Unzipping models/word2vec_sample.zip.\n",
      "[nltk_data]    | Downloading package panlex_swadesh to\n",
      "[nltk_data]    |     /Users/amccart9/nltk_data...\n",
      "[nltk_data]    | Downloading package mte_teip5 to\n",
      "[nltk_data]    |     /Users/amccart9/nltk_data...\n",
      "[nltk_data]    |   Unzipping corpora/mte_teip5.zip.\n",
      "[nltk_data]    | Downloading package averaged_perceptron_tagger to\n",
      "[nltk_data]    |     /Users/amccart9/nltk_data...\n",
      "[nltk_data]    |   Unzipping taggers/averaged_perceptron_tagger.zip.\n",
      "[nltk_data]    | Downloading package averaged_perceptron_tagger_ru to\n",
      "[nltk_data]    |     /Users/amccart9/nltk_data...\n",
      "[nltk_data]    |   Unzipping\n",
      "[nltk_data]    |       taggers/averaged_perceptron_tagger_ru.zip.\n",
      "[nltk_data]    | Downloading package perluniprops to\n",
      "[nltk_data]    |     /Users/amccart9/nltk_data...\n",
      "[nltk_data]    |   Unzipping misc/perluniprops.zip.\n",
      "[nltk_data]    | Downloading package nonbreaking_prefixes to\n",
      "[nltk_data]    |     /Users/amccart9/nltk_data...\n",
      "[nltk_data]    |   Unzipping corpora/nonbreaking_prefixes.zip.\n",
      "[nltk_data]    | Downloading package vader_lexicon to\n",
      "[nltk_data]    |     /Users/amccart9/nltk_data...\n",
      "[nltk_data]    | Downloading package porter_test to\n",
      "[nltk_data]    |     /Users/amccart9/nltk_data...\n",
      "[nltk_data]    |   Unzipping stemmers/porter_test.zip.\n",
      "[nltk_data]    | Downloading package wmt15_eval to\n",
      "[nltk_data]    |     /Users/amccart9/nltk_data...\n",
      "[nltk_data]    |   Unzipping models/wmt15_eval.zip.\n",
      "[nltk_data]    | Downloading package mwa_ppdb to\n",
      "[nltk_data]    |     /Users/amccart9/nltk_data...\n",
      "[nltk_data]    |   Unzipping misc/mwa_ppdb.zip.\n",
      "[nltk_data]    | \n",
      "[nltk_data]  Done downloading collection all\n"
     ]
    }
   ],
   "source": [
    "''' Track all imported libraries here '''\n",
    "\n",
    "import os\n",
    "import string\n",
    "from itertools import islice\n",
    "import pprint\n",
    "\n",
    "# Notebooks\n",
    "from IPython.display import Image\n",
    "from IPython.core.display import HTML \n",
    "import warnings\n",
    "warnings.filterwarnings('ignore')\n",
    "from tqdm._tqdm_notebook import tqdm_notebook\n",
    "tqdm_notebook.pandas()\n",
    "from IPython.display import display_html \n",
    "\n",
    "# Data analytics\n",
    "import pandas as pd\n",
    "from pandarallel import pandarallel\n",
    "pandarallel.initialize()\n",
    "import numpy as np\n",
    "import matplotlib.pyplot as plt\n",
    "from imblearn.over_sampling import SMOTE\n",
    "\n",
    "# NLP\n",
    "import re\n",
    "import gensim\n",
    "from gensim.utils import simple_preprocess\n",
    "from gensim.parsing.preprocessing import STOPWORDS\n",
    "from gensim import corpora, models\n",
    "from nltk.stem import WordNetLemmatizer, SnowballStemmer\n",
    "from nltk.stem.porter import *\n",
    "import nltk\n",
    "nltk.download('all')\n",
    "from nltk.corpus import wordnet\n",
    "\n",
    "# Machine Learning\n",
    "from sklearn.feature_extraction.text import TfidfVectorizer\n",
    "from sklearn import metrics\n",
    "from sklearn.metrics import auc, accuracy_score, confusion_matrix, f1_score, roc_curve, classification_report\n",
    "from sklearn.model_selection import train_test_split\n",
    "from sklearn.utils import resample\n",
    "from sklearn.model_selection import GridSearchCV\n",
    "import xgboost as xgb\n",
    "from sklearn.preprocessing import label_binarize\n",
    "from sklearn.svm import SVC\n",
    "\n",
    "\n",
    "# Visualisations\n",
    "from matplotlib import pyplot as plt\n",
    "import seaborn as sns"
   ]
  },
  {
   "cell_type": "markdown",
   "metadata": {},
   "source": [
    "# 1. Data Exploration\n",
    "## 1.1 File Structure\n",
    "Converting directory trees into something useable.\n",
    "<hr>\n"
   ]
  },
  {
   "cell_type": "code",
   "execution_count": 6,
   "metadata": {},
   "outputs": [
    {
     "name": "stdout",
     "output_type": "stream",
     "text": [
      "Data class mappings:  {0: 'talk.politics.mideast', 1: 'rec.autos', 2: 'comp.sys.mac.hardware', 3: 'alt.atheism', 4: 'rec.sport.baseball', 5: 'comp.os.ms-windows.misc', 6: 'rec.sport.hockey', 7: 'sci.crypt', 8: 'sci.med', 9: 'talk.politics.misc', 10: 'rec.motorcycles', 11: 'comp.windows.x', 12: 'comp.graphics', 13: 'comp.sys.ibm.pc.hardware', 14: 'sci.electronics', 15: 'talk.politics.guns', 16: 'sci.space', 17: 'soc.religion.christian', 18: 'misc.forsale', 19: 'talk.religion.misc'}\n"
     ]
    }
   ],
   "source": [
    "'''Data structure; train and test directories each contain 20 folders. Each\n",
    "   folder contains data samples of the same class'''\n",
    "\n",
    "\n",
    "test  = '/Users/Projects/newsdata/20news-bydate-test'\n",
    "train = '/Users/Projects/20news-bydate-train'\n",
    "\n",
    "'''Create inteer mapping for class labels'''\n",
    "classes = {i : os.listdir(test)[i] for i in range(0, len(os.listdir(test)))}\n",
    "print(\"Data class mappings: \", classes)"
   ]
  },
  {
   "cell_type": "markdown",
   "metadata": {},
   "source": [
    "<hr>Note that the train test split was designed by the dataset owner. The spit is across some interval of time, with only train samples before a certain date, and only test samples after that date."
   ]
  },
  {
   "cell_type": "code",
   "execution_count": 11,
   "metadata": {},
   "outputs": [],
   "source": [
    "'''Collapse file structure in train and test, renaming samples to reflect class label'''\n",
    "\n",
    "\n",
    "# New directories\n",
    "train = 'data/train'\n",
    "test  = 'data/test'\n",
    "\n",
    "# Flatten file structure, and save files in new directory\n",
    "def flatten_directories(parent_dir, new_dir):\n",
    "    \n",
    "    data = []\n",
    "    for i in os.listdir(parent_dir):\n",
    "        files = [parent_dir + '/' + i + '/' + j for j in list(filter(lambda f: not f.startswith('.'), os.listdir(parent_dir + '/' + i)))]\n",
    "        data.extend(files)\n",
    "\n",
    "    for i in data:\n",
    "        os.rename(i, new_dir + '/' + str(i.split('/')[-2]) + '_' + str(i.split('/')[-1]) + '.txt') \n",
    "\n",
    "flatten_directories(test , clean_test) \n",
    "flatten_directories(train, clean_train)"
   ]
  },
  {
   "cell_type": "markdown",
   "metadata": {},
   "source": [
    "## 1.2 Dirty Data\n",
    "\n",
    "Let's take a look at an example of the data, and the various artifacts that appear within.\n",
    "<hr>"
   ]
  },
  {
   "cell_type": "code",
   "execution_count": 13,
   "metadata": {},
   "outputs": [
    {
     "data": {
      "image/png": "[encoded data removed]",
      "text/plain": [
       "<IPython.core.display.Image object>"
      ]
     },
     "execution_count": 13,
     "metadata": {},
     "output_type": "execute_result"
    }
   ],
   "source": [
    "from IPython.display import Image\n",
    "Image(filename='image.png') "
   ]
  },
  {
   "cell_type": "markdown",
   "metadata": {},
   "source": [
    "The data contains From and Subject blocks, which will skew results. Email addresses with .edu suffices, and organisation names will all confuse the models. Further, text dermaked with the \">\" symbol represents text from other posts to which the current forum user is responding (there are many different repsonse demarkation symbols). These have to be removed, because multiple data points might respond to the same post. Finally, the signature at the end contains irrelevant and misleading text which ought to be removed.\n",
    "\n",
    "<hr>"
   ]
  },
  {
   "cell_type": "markdown",
   "metadata": {},
   "source": [
    "## 1.3 Cleaning the Data\n",
    "Remove the artifacts of the data. Regex can take care of the comment response duplication issue, as well as the headers. As there is significant variety in the signatures, (some posts have simple signatures, some have complicated signatures, some have none, and some posts use common signature symbols throughout their post), the signatures will be untouched. Note that an approximate removal of the artifacts is all that's actually required; the TF-IDF emebeddings that will be used later will select only those tokens which are of importance (i.e. frequency above some threshold) anyway.\n",
    "<hr>"
   ]
  },
  {
   "cell_type": "code",
   "execution_count": 14,
   "metadata": {},
   "outputs": [],
   "source": [
    "# Cleanse all input files and write back the changes\n",
    "def remove_artifacts(input_dir):\n",
    "    \n",
    "    data_set = [input_dir + '/' + i for i in list(filter(lambda f: not f.startswith('.'), os.listdir(input_dir)))]\n",
    "    for text_file in data_set:\n",
    "    \n",
    "        with open(text_file, 'r', encoding=\"latin-1\") as f: # Encoding required for strange forum characters\n",
    "            dirty_text = f.readlines()\n",
    "        header     = \"^[\\w-]+:\" # All post headers\n",
    "        response   = \"^>|^#|^:|^\\|\" # Text demarked as source of response post\n",
    "        reply_ref  = \"^In article <|\\w+\\s(writes|wrote):$|\\)\\s(writes|wrote):$\" # Other artifacts\n",
    "        clean_text = []\n",
    "\n",
    "        # If any line in file contains artifact, remove it\n",
    "        for line in dirty_text:\n",
    "            match_1  = re.findall(header   , line)\n",
    "            match_2  = re.findall(response , line)\n",
    "            match_3  = re.findall(reply_ref, line)\n",
    "            if match_1 or match_2 or match_3:\n",
    "                clean_text.append('')   \n",
    "            else:\n",
    "                clean_text.append(line)\n",
    "        \n",
    "        with open(input_dir + '/' + text_file.split('/')[-1], 'w') as f:\n",
    "            f.write(''.join(clean_text).replace('\\n\\n\\n', '\\n').replace('\\n\\n', '\\n'))\n",
    "\n",
    "remove_artifacts(clean_train)\n",
    "remove_artifacts(clean_test)\n",
    "\n",
    "\n"
   ]
  },
  {
   "cell_type": "markdown",
   "metadata": {},
   "source": [
    "## 1.4 Structuring the Data\n",
    "Store the data in dataframes and create numeric class labels.\n",
    "<hr>"
   ]
  },
  {
   "cell_type": "code",
   "execution_count": 15,
   "metadata": {},
   "outputs": [
    {
     "name": "stdout",
     "output_type": "stream",
     "text": [
      "18846 records.\n"
     ]
    },
    {
     "data": {
      "text/html": [
       "<div>\n",
       "<style scoped>\n",
       "    .dataframe tbody tr th:only-of-type {\n",
       "        vertical-align: middle;\n",
       "    }\n",
       "\n",
       "    .dataframe tbody tr th {\n",
       "        vertical-align: top;\n",
       "    }\n",
       "\n",
       "    .dataframe thead th {\n",
       "        text-align: right;\n",
       "    }\n",
       "</style>\n",
       "<table border=\"1\" class=\"dataframe\">\n",
       "  <thead>\n",
       "    <tr style=\"text-align: right;\">\n",
       "      <th></th>\n",
       "      <th>text</th>\n",
       "      <th>class</th>\n",
       "      <th>source</th>\n",
       "    </tr>\n",
       "  </thead>\n",
       "  <tbody>\n",
       "    <tr>\n",
       "      <th>0</th>\n",
       "      <td>\\n} &gt;&gt;\\n} &gt;&gt;&gt;Has Jack lost a bit of his edge? ...</td>\n",
       "      <td>4</td>\n",
       "      <td>train</td>\n",
       "    </tr>\n",
       "    <tr>\n",
       "      <th>1</th>\n",
       "      <td>\\nI am involved with a Michigan company that h...</td>\n",
       "      <td>14</td>\n",
       "      <td>train</td>\n",
       "    </tr>\n",
       "    <tr>\n",
       "      <th>2</th>\n",
       "      <td>\\nThere are several public domain utilities av...</td>\n",
       "      <td>12</td>\n",
       "      <td>train</td>\n",
       "    </tr>\n",
       "    <tr>\n",
       "      <th>3</th>\n",
       "      <td>\\nWhat's the problem here?  Back in 1958 I rod...</td>\n",
       "      <td>10</td>\n",
       "      <td>train</td>\n",
       "    </tr>\n",
       "    <tr>\n",
       "      <th>4</th>\n",
       "      <td>\\n\"Through a single data point, you can draw a...</td>\n",
       "      <td>1</td>\n",
       "      <td>train</td>\n",
       "    </tr>\n",
       "  </tbody>\n",
       "</table>\n",
       "</div>"
      ],
      "text/plain": [
       "                                                text  class source\n",
       "0  \\n} >>\\n} >>>Has Jack lost a bit of his edge? ...      4  train\n",
       "1  \\nI am involved with a Michigan company that h...     14  train\n",
       "2  \\nThere are several public domain utilities av...     12  train\n",
       "3  \\nWhat's the problem here?  Back in 1958 I rod...     10  train\n",
       "4  \\n\"Through a single data point, you can draw a...      1  train"
      ]
     },
     "execution_count": 15,
     "metadata": {},
     "output_type": "execute_result"
    }
   ],
   "source": [
    "'''Build each row of dataframe by reading text files and pulling out relevant data'''\n",
    "\n",
    "columns = ['text', 'class', 'source']\n",
    "\n",
    "def files_to_rows(directory, source):\n",
    "    files = [directory + '/' + i for i in list(filter(lambda f: not f.startswith('.'), os.listdir(directory)))]\n",
    "    \n",
    "    rows = []\n",
    "    for file in files:\n",
    "        with open(file, 'r') as f:\n",
    "            text = f.read()\n",
    "        class_name = file.split('/')[-1].split('_')[0]\n",
    "        class_     = list(classes.keys())[list(classes.values()).index(class_name)]\n",
    "        rows.append([text, class_, source])\n",
    "    return rows\n",
    "        \n",
    "\n",
    "df_train = pd.DataFrame(files_to_rows(clean_train, 'train'), columns=columns)\n",
    "df_test  = pd.DataFrame(files_to_rows(clean_test , 'test'), columns=columns)\n",
    "df_full  = pd.concat([df_train, df_test])\n",
    "print(\"{} records.\".format(df_full.shape[0]))\n",
    "df_full.head()"
   ]
  },
  {
   "cell_type": "markdown",
   "metadata": {},
   "source": [
    "## 1.5 Exploring the Data\n",
    "With all that leg work out of the way, let's look at the interesting stuff.\n",
    "<hr>"
   ]
  },
  {
   "cell_type": "code",
   "execution_count": 16,
   "metadata": {},
   "outputs": [
    {
     "data": {
      "image/png": "[encoded data removed]",
      "text/plain": [
       "<Figure size 1080x360 with 1 Axes>"
      ]
     },
     "metadata": {
      "needs_background": "light"
     },
     "output_type": "display_data"
    }
   ],
   "source": [
    "'''Check for class imbalance in the dataset'''\n",
    "\n",
    "plt.figure(figsize=(15,5))\n",
    "plt.title(\"Class Distribution\")\n",
    "ax = sns.countplot(x=\"class\", data=df_full)"
   ]
  },
  {
   "cell_type": "markdown",
   "metadata": {},
   "source": [
    "Okay, the classes have a little bit of imbalance. A bit of upsampling may be required down the line.\n",
    "<hr>"
   ]
  },
  {
   "cell_type": "code",
   "execution_count": 17,
   "metadata": {},
   "outputs": [
    {
     "data": {
      "image/png": "[encoded data removed]",
      "text/plain": [
       "<Figure size 1080x288 with 1 Axes>"
      ]
     },
     "metadata": {
      "needs_background": "light"
     },
     "output_type": "display_data"
    }
   ],
   "source": [
    "'''Train/Test Split'''\n",
    "plt.figure(figsize=(15, 4))\n",
    "plt.title(\"Train/Test Split\")\n",
    "sns.set_color_codes(\"pastel\")\n",
    "ax = sns.countplot(y=\"source\", data=df_full)"
   ]
  },
  {
   "cell_type": "markdown",
   "metadata": {},
   "source": [
    "\n",
    "<hr>\n",
    "\n",
    "## 2.1 Building out NLP Tools\n",
    "Before pushing into the juicy parts of machine learning (model training), we must convert the text data into something that the classifers can understand. So, let's create a couple of utility functions. It's necessary to control all data processing between all experimental methods, to minimise experimental error. As the topic modelling will require the Gensim library, and Sklearn will take the rest, we'll have to create standardised TF-IDF dictionaries between each library.\n",
    "<hr>"
   ]
  },
  {
   "cell_type": "code",
   "execution_count": 20,
   "metadata": {},
   "outputs": [],
   "source": [
    "'''Utility Functions'''\n",
    "\n",
    "\n",
    "# Feed a word (with POS tag), return the lemmatization and the stem of the word\n",
    "def lemmatize_and_stem(word, pos_tag=wordnet.NOUN):\n",
    "    return PorterStemmer().stem(WordNetLemmatizer().lemmatize(word, pos=pos_tag))\n",
    "\n",
    "\n",
    "# Feed a phrase, return list of tuples, each containing a word from phrase and POS tag\n",
    "def tag_POS(phrase):\n",
    "    phrase = nltk.word_tokenize(phrase)\n",
    "    phrase = nltk.pos_tag(phrase)\n",
    "    return phrase\n",
    "\n",
    "\n",
    "# Separate contractions so that each word gets its own tag (NLTK can be clumsy if you\n",
    "# don't do this!)\n",
    "def remove_contraction(phrase):\n",
    "    expansions = {r\"he's\"  : \"he is\"   , r\"she's\": \"she is\", r\"it's\" : \"it is\" ,\n",
    "                r\"let's\"  : \"let us\"  , r\"n\\'t\" : \" not\"  , r\"\\'re\" : \" are\"  ,\n",
    "                r\"\\'d\"    : \" would\"  , r\"\\'ll\" : \" will\" , r\"\\'t\"  : \" not\"  ,\n",
    "                r\"\\'ve\"   : \" have\"   , r\"\\'m\"  : \" am\"}\n",
    "    for k in expansions:\n",
    "        phrase = re.sub(k, expansions[k], phrase)\n",
    "    return(phrase)\n",
    "\n",
    "\n",
    "# Feed POS tag from NLTK, convert it to be usable by wordnet\n",
    "def get_wordnet_pos(treebank_tag):\n",
    "    initial = treebank_tag[0]\n",
    "    convert = {'J': wordnet.ADJ, 'V': wordnet.VERB, 'N': wordnet.NOUN, 'R' : wordnet.ADV}\n",
    "    try:\n",
    "        return convert[initial]\n",
    "    except:\n",
    "        return wordnet.NOUN # Default of lemmatizer argument\n",
    "\n",
    "\n",
    "# Feed a string, return a list of of lemmatized, stemmed words from that string\n",
    "def prepare_text_data(text):\n",
    "    result = []\n",
    "    tokens = []\n",
    "    \n",
    "    text = tag_POS(remove_contraction(text.lower()))\n",
    "    \n",
    "    for token in text:\n",
    "        tokens.append((token[0], get_wordnet_pos(token[1])))\n",
    "\n",
    "    for token in tokens:\n",
    "        if token[0] not in gensim.parsing.preprocessing.STOPWORDS and len(token[0]) >= 3:\n",
    "            result.append(lemmatize_and_stem(token[0], token[1]))\n",
    "        \n",
    "    return(result)"
   ]
  },
  {
   "cell_type": "markdown",
   "metadata": {},
   "source": [
    "The above utility functions convert all words into their root form. The NLTK library is used to mark POS of the text data, to ensure accurate lemmatizing. By default the Wordnet library lemmatizes with the presumption that the word is a verb. This in innaccurate in many cases in English. \n",
    "For example, 'rose' the verb lemmatizes to 'rise', whereas 'rose' the noun lemmatizes to 'rose'. Also, it is necessary to convert from NLTK-standard tagging to Wordnet-standard.\n",
    "<hr>"
   ]
  },
  {
   "cell_type": "code",
   "execution_count": 25,
   "metadata": {},
   "outputs": [
    {
     "name": "stdout",
     "output_type": "stream",
     "text": [
      "Unprocessed sample: \n",
      "\n",
      " \n",
      "Anyone out there in netland have a spare data pod or two from an old \n",
      "1615A Hewlett Packard logic analyzer?  If you do, I'd like to buy it off\n",
      "of you.  The pod's part number is 10248B.\n",
      "As a side note, anyone know of any good surplus dealer or other organization\n",
      "that would carry wayward logic analzer pods?\n",
      "\t\t\t\tThanks a byte,\n",
      "\t\t\t\t\t\tTod\n",
      "\t\t\t\t\t\t\ttod@cco.caltech.edu\n",
      "\n",
      "Processed sample: \n",
      "\n",
      " ['netland', 'spare', 'data', 'pod', 'old', '1615a', 'hewlett', 'packard', 'logic', 'analyz', 'like', 'buy', 'pod', 'number', '10248b', 'note', 'know', 'good', 'surplu', 'dealer', 'organ', 'carri', 'wayward', 'logic', 'analz', 'pod', 'thank', 'byte', 'tod', 'tod', 'cco.caltech.edu']\n"
     ]
    }
   ],
   "source": [
    "'''Testing the data processing utility functions'''\n",
    "\n",
    "# Take a random datapoint\n",
    "sample = df_train.text[3000]\n",
    "    \n",
    "print('Unprocessed sample: \\n\\n', sample)\n",
    "print('Processed sample: \\n\\n', prepare_text_data(sample))"
   ]
  },
  {
   "cell_type": "code",
   "execution_count": 26,
   "metadata": {},
   "outputs": [
    {
     "data": {
      "application/vnd.jupyter.widget-view+json": {
       "model_id": "3c5881ed00e6494a8250cdc94a2e3e13",
       "version_major": 2,
       "version_minor": 0
      },
      "text/plain": [
       "HBox(children=(IntProgress(value=0, max=11314), HTML(value='')))"
      ]
     },
     "metadata": {},
     "output_type": "display_data"
    },
    {
     "name": "stdout",
     "output_type": "stream",
     "text": [
      "\n"
     ]
    },
    {
     "data": {
      "application/vnd.jupyter.widget-view+json": {
       "model_id": "14d581ab504b447a9269e128af171c7e",
       "version_major": 2,
       "version_minor": 0
      },
      "text/plain": [
       "HBox(children=(IntProgress(value=0, max=7532), HTML(value='')))"
      ]
     },
     "metadata": {},
     "output_type": "display_data"
    },
    {
     "name": "stdout",
     "output_type": "stream",
     "text": [
      "\n"
     ]
    }
   ],
   "source": [
    "'''Apply processing to entire dataset'''\n",
    "\n",
    "# progress_map() is the tqdm equivalent of pandas.DataFrame.map()\n",
    "# prepared_train = df_train['text'].progress_map(prepare_text_data)#.to_frame().merge(df_train[['class']], left_index=True, right_index=True)\n",
    "# prepared_test  =  df_test['text'].progress_map(prepare_text_data)#.to_frame().merge(df_test[['class' ]], left_index=True, right_index=True)\n"
   ]
  },
  {
   "cell_type": "code",
   "execution_count": 32,
   "metadata": {},
   "outputs": [
    {
     "name": "stdout",
     "output_type": "stream",
     "text": [
      "INFO: Pandarallel will run on 8 workers.\n",
      "INFO: Pandarallel will use standard multiprocessing data transfer (pipe) to transfer data between the main process and workers.\n"
     ]
    }
   ],
   "source": [
    "from pandarallel import pandarallel\n",
    "pandarallel.initialize()"
   ]
  },
  {
   "cell_type": "code",
   "execution_count": 35,
   "metadata": {},
   "outputs": [
    {
     "data": {
      "text/html": [
       "<div>\n",
       "<style scoped>\n",
       "    .dataframe tbody tr th:only-of-type {\n",
       "        vertical-align: middle;\n",
       "    }\n",
       "\n",
       "    .dataframe tbody tr th {\n",
       "        vertical-align: top;\n",
       "    }\n",
       "\n",
       "    .dataframe thead th {\n",
       "        text-align: right;\n",
       "    }\n",
       "</style>\n",
       "<table border=\"1\" class=\"dataframe\">\n",
       "  <thead>\n",
       "    <tr style=\"text-align: right;\">\n",
       "      <th></th>\n",
       "      <th>text</th>\n",
       "      <th>class</th>\n",
       "      <th>source</th>\n",
       "      <th>processed_text</th>\n",
       "    </tr>\n",
       "  </thead>\n",
       "  <tbody>\n",
       "    <tr>\n",
       "      <th>0</th>\n",
       "      <td>\\n} &gt;&gt;\\n} &gt;&gt;&gt;Has Jack lost a bit of his edge? ...</td>\n",
       "      <td>4</td>\n",
       "      <td>train</td>\n",
       "      <td>[jack, lose, bit, edg, bad, start, jack, morri...</td>\n",
       "    </tr>\n",
       "    <tr>\n",
       "      <th>1</th>\n",
       "      <td>\\nI am involved with a Michigan company that h...</td>\n",
       "      <td>14</td>\n",
       "      <td>train</td>\n",
       "      <td>[involv, michigan, compani, applic, requir, wi...</td>\n",
       "    </tr>\n",
       "    <tr>\n",
       "      <th>2</th>\n",
       "      <td>\\nThere are several public domain utilities av...</td>\n",
       "      <td>12</td>\n",
       "      <td>train</td>\n",
       "      <td>[public, domain, util, avail, usual, archiv, s...</td>\n",
       "    </tr>\n",
       "    <tr>\n",
       "      <th>3</th>\n",
       "      <td>\\nWhat's the problem here?  Back in 1958 I rod...</td>\n",
       "      <td>10</td>\n",
       "      <td>train</td>\n",
       "      <td>[problem, 1958, ride, puch, 175, pari, barcelo...</td>\n",
       "    </tr>\n",
       "    <tr>\n",
       "      <th>4</th>\n",
       "      <td>\\n\"Through a single data point, you can draw a...</td>\n",
       "      <td>1</td>\n",
       "      <td>train</td>\n",
       "      <td>[singl, data, point, draw, line, want, dr., ba...</td>\n",
       "    </tr>\n",
       "  </tbody>\n",
       "</table>\n",
       "</div>"
      ],
      "text/plain": [
       "                                                text  class source  \\\n",
       "0  \\n} >>\\n} >>>Has Jack lost a bit of his edge? ...      4  train   \n",
       "1  \\nI am involved with a Michigan company that h...     14  train   \n",
       "2  \\nThere are several public domain utilities av...     12  train   \n",
       "3  \\nWhat's the problem here?  Back in 1958 I rod...     10  train   \n",
       "4  \\n\"Through a single data point, you can draw a...      1  train   \n",
       "\n",
       "                                      processed_text  \n",
       "0  [jack, lose, bit, edg, bad, start, jack, morri...  \n",
       "1  [involv, michigan, compani, applic, requir, wi...  \n",
       "2  [public, domain, util, avail, usual, archiv, s...  \n",
       "3  [problem, 1958, ride, puch, 175, pari, barcelo...  \n",
       "4  [singl, data, point, draw, line, want, dr., ba...  "
      ]
     },
     "execution_count": 35,
     "metadata": {},
     "output_type": "execute_result"
    }
   ],
   "source": [
    "df_train['processed_text'] = df_train['text'].parallel_apply(lambda x: prepare_text_data(x))\n",
    "df_test['processed_text'] = df_test['text'].parallel_apply(lambda x: prepare_text_data(x))\n",
    "df_train.head()"
   ]
  },
  {
   "cell_type": "code",
   "execution_count": 39,
   "metadata": {},
   "outputs": [
    {
     "name": "stdout",
     "output_type": "stream",
     "text": [
      "Feature count: \n",
      "\n",
      "Train: 21634.\n",
      "Test: 19074.\n"
     ]
    }
   ],
   "source": [
    "''' Build a vocabulary for encoding text data'''\n",
    "\n",
    "def generate_vocabulary(corpus):\n",
    "    dic = gensim.corpora.Dictionary(corpus) # Create integer ID for each token in corpus\n",
    "    dic.filter_extremes(no_below=2, no_above=0.5, keep_n=30000)\n",
    "    # Remove any 'dirty' tokens, like email addresses, and swap k:v pairs for integration with sklearn\n",
    "    dic = {v: k for k, v in dic.iteritems() if not any([x in v for x in string.punctuation])}\n",
    "    for i, k in enumerate(dic.keys()): # Reset value IDs (want consecutive integers from 0)\n",
    "        dic[k] = i\n",
    "    return(dic)\n",
    "    \n",
    "dic_train = generate_vocabulary(df_train['processed_text'])\n",
    "dic_test = generate_vocabulary(df_test['processed_text'])\n",
    "print(\"Feature count: \\n\\nTrain: {}.\\nTest: {}.\".format(len(dic_train), len(dic_test)))\n"
   ]
  },
  {
   "cell_type": "code",
   "execution_count": 40,
   "metadata": {},
   "outputs": [
    {
     "name": "stdout",
     "output_type": "stream",
     "text": [
      "['6th', 'age', 'ago', 'appar', 'averag', 'bad', 'base', 'basebal', 'basic', 'believ', 'best', 'bit', 'boston', 'care', 'catch', 'charl', 'cheap', 'choic', 'come', 'compar', 'contribut', 'count', 'curiou', 'damn', 'divis', 'easili', 'edg', 'enjoy', 'expect', 'fame', 'far', 'finger', 'finish', 'frank', 'futur', 'game', 'get', 'give', 'go', 'good', 'hall', 'hey', 'hindsight', 'instead', 'jack', 'jay', 'know', 'lack', 'later', 'like', 'logic', 'look', 'lose', 'lot', 'lucki', 'mean', 'mislead', 'morri', 'offens', 'oooooo', 'peopl', 'pitcher', 'plenti', 'previou', 'probabl', 'prone', 'prove', 'rbi', 'reason', 'recent', 'record', 'red', 'retort', 'ring', 'run', 'say', 'seri', 'shot', 'sign', 'sox', 'spuriou', 'start', 'statist', 'stupid', 'sure', 'sweepstak', 'team', 'tell', 'tomorrow', 'toronto', 'tri', 'true', 'valentin', 'valid', 'viola', 'way', 'well', 'win', 'world', 'ye']\n"
     ]
    }
   ],
   "source": [
    "''' Have a look at what the dictionaries are storing'''\n",
    "from itertools import islice\n",
    "print(list(islice(dic_train, 100)))"
   ]
  },
  {
   "cell_type": "markdown",
   "metadata": {},
   "source": [
    "## 2.2 Training a Classifier\n",
    "With the legwork out of the way, let's train a classifier and determine our benchmark accuracy.\n",
    "<hr>"
   ]
  },
  {
   "cell_type": "code",
   "execution_count": 41,
   "metadata": {},
   "outputs": [],
   "source": [
    "'''Now create the train and validation sets'''\n",
    "\n",
    "vectorizer = TfidfVectorizer(vocabulary=dic_train)\n",
    "vectorizer.fit_transform(df_train.text)\n",
    "X_train, y_train = vectorizer.transform(df_train.text), df_train['class']\n",
    "X_test , y_test  = vectorizer.transform(df_test.text) , df_test['class']"
   ]
  },
  {
   "cell_type": "markdown",
   "metadata": {},
   "source": [
    "As discussed earlier, let's upsample the data to account for the [albeit mild] class imbalance.\n",
    "<p>\n",
    "\n"
   ]
  },
  {
   "cell_type": "code",
   "execution_count": 42,
   "metadata": {},
   "outputs": [],
   "source": [
    "X_train, y_train = SMOTE().fit_resample(X_train, y_train)\n",
    "X_test , y_test  = SMOTE().fit_resample(X_test , y_test)"
   ]
  },
  {
   "cell_type": "markdown",
   "metadata": {},
   "source": [
    "<P>\n",
    "    To start, let's train an XGBoost classifier, get an idea of performance and then move into hyperparameter optimisation."
   ]
  },
  {
   "cell_type": "code",
   "execution_count": 43,
   "metadata": {},
   "outputs": [
    {
     "name": "stdout",
     "output_type": "stream",
     "text": [
      "[0]\tvalidation_0-merror:0.5025\n",
      "Will train until validation_0-merror hasn't improved in 50 rounds.\n",
      "[10]\tvalidation_0-merror:0.412083\n",
      "[20]\tvalidation_0-merror:0.39125\n",
      "[30]\tvalidation_0-merror:0.382917\n",
      "[40]\tvalidation_0-merror:0.375833\n",
      "[50]\tvalidation_0-merror:0.367083\n",
      "[60]\tvalidation_0-merror:0.360833\n",
      "[70]\tvalidation_0-merror:0.360833\n",
      "[80]\tvalidation_0-merror:0.35625\n",
      "[90]\tvalidation_0-merror:0.354583\n",
      "[99]\tvalidation_0-merror:0.35\n"
     ]
    },
    {
     "data": {
      "text/plain": [
       "XGBClassifier(max_depth=10, objective='multi:softprob', random_state=42)"
      ]
     },
     "execution_count": 43,
     "metadata": {},
     "output_type": "execute_result"
    }
   ],
   "source": [
    "X_train, X_val, y_train, y_val = train_test_split(X_train, y_train, test_size=0.2, random_state=42)\n",
    "model = xgb.XGBClassifier(objective='multi:softmax', random_state=42, max_depth=10)\n",
    "model.fit(X_train, y_train, early_stopping_rounds=50, eval_set=[(X_val, y_val)], verbose=10)"
   ]
  },
  {
   "cell_type": "code",
   "execution_count": 44,
   "metadata": {
    "scrolled": true
   },
   "outputs": [
    {
     "name": "stdout",
     "output_type": "stream",
     "text": [
      "Model accuracy: 0.5592731829573935\n",
      "              precision    recall  f1-score   support\n",
      "\n",
      "           0       0.82      0.63      0.71       399\n",
      "           1       0.57      0.61      0.59       399\n",
      "           2       0.55      0.55      0.55       399\n",
      "           3       0.48      0.46      0.47       399\n",
      "           4       0.46      0.64      0.53       399\n",
      "           5       0.43      0.44      0.43       399\n",
      "           6       0.74      0.68      0.71       399\n",
      "           7       0.76      0.61      0.68       399\n",
      "           8       0.53      0.58      0.56       399\n",
      "           9       0.55      0.41      0.47       399\n",
      "          10       0.74      0.70      0.72       399\n",
      "          11       0.63      0.57      0.60       399\n",
      "          12       0.43      0.49      0.46       399\n",
      "          13       0.50      0.50      0.50       399\n",
      "          14       0.33      0.39      0.36       399\n",
      "          15       0.52      0.57      0.55       399\n",
      "          16       0.65      0.69      0.67       399\n",
      "          17       0.58      0.66      0.62       399\n",
      "          18       0.66      0.66      0.66       399\n",
      "          19       0.45      0.35      0.39       399\n",
      "\n",
      "    accuracy                           0.56      7980\n",
      "   macro avg       0.57      0.56      0.56      7980\n",
      "weighted avg       0.57      0.56      0.56      7980\n",
      "\n"
     ]
    }
   ],
   "source": [
    "y_pred  = model.predict(X_test)\n",
    "acc     = accuracy_score(y_test, y_pred)\n",
    "\n",
    "print(\"Model accuracy: {}\".format(acc))\n",
    "print(classification_report(y_test, y_pred))"
   ]
  },
  {
   "cell_type": "code",
   "execution_count": 45,
   "metadata": {
    "scrolled": false
   },
   "outputs": [
    {
     "data": {
      "image/png": "[encoded data removed]",
      "text/plain": [
       "<Figure size 720x576 with 2 Axes>"
      ]
     },
     "metadata": {
      "needs_background": "light"
     },
     "output_type": "display_data"
    }
   ],
   "source": [
    "plt.figure(figsize=(10, 8))\n",
    "plt.title(\"Confusion Matrix\")\n",
    "ticklabels = [v for k, v in classes.items()]\n",
    "sns.heatmap(confusion_matrix(y_test, y_pred), xticklabels=ticklabels, yticklabels = ticklabels)\n",
    "xticklabels, yticklabels = True, True"
   ]
  },
  {
   "cell_type": "code",
   "execution_count": 102,
   "metadata": {
    "scrolled": true
   },
   "outputs": [
    {
     "name": "stdout",
     "output_type": "stream",
     "text": [
      "Fitting 3 folds for each of 8 candidates, totalling 24 fits\n",
      "[CV] max_depth=5, min_child_weight=1 .................................\n"
     ]
    },
    {
     "ename": "ValueError",
     "evalue": "bad input shape (5258, 20)",
     "output_type": "error",
     "traceback": [
      "\u001b[0;31m----------------------------------------------------------------------\u001b[0m",
      "\u001b[0;31mValueError\u001b[0m                           Traceback (most recent call last)",
      "\u001b[0;32m<ipython-input-102-4b219c91b864>\u001b[0m in \u001b[0;36m<module>\u001b[0;34m()\u001b[0m\n\u001b[1;32m      8\u001b[0m \u001b[0;34m\u001b[0m\u001b[0m\n\u001b[1;32m      9\u001b[0m \u001b[0my\u001b[0m \u001b[0;34m=\u001b[0m \u001b[0mlabel_binarize\u001b[0m\u001b[0;34m(\u001b[0m\u001b[0my_train\u001b[0m\u001b[0;34m,\u001b[0m \u001b[0mclasses\u001b[0m\u001b[0;34m=\u001b[0m\u001b[0mrange\u001b[0m\u001b[0;34m(\u001b[0m\u001b[0;36m20\u001b[0m\u001b[0;34m)\u001b[0m\u001b[0;34m)\u001b[0m\u001b[0;34m\u001b[0m\u001b[0m\n\u001b[0;32m---> 10\u001b[0;31m \u001b[0mgrid_search\u001b[0m\u001b[0;34m.\u001b[0m\u001b[0mfit\u001b[0m\u001b[0;34m(\u001b[0m\u001b[0mX_train\u001b[0m\u001b[0;34m,\u001b[0m \u001b[0my\u001b[0m\u001b[0;34m)\u001b[0m\u001b[0;34m\u001b[0m\u001b[0m\n\u001b[0m\u001b[1;32m     11\u001b[0m \u001b[0mgrid_search\u001b[0m\u001b[0;34m.\u001b[0m\u001b[0mgrid_scores_\u001b[0m\u001b[0;34m,\u001b[0m \u001b[0mgrid_search\u001b[0m\u001b[0;34m.\u001b[0m\u001b[0mbest_params_\u001b[0m\u001b[0;34m,\u001b[0m \u001b[0mgrid_search\u001b[0m\u001b[0;34m.\u001b[0m\u001b[0mbest_score_\u001b[0m\u001b[0;34m\u001b[0m\u001b[0m\n",
      "\u001b[0;32m~/Secret/anaconda3/lib/python3.6/site-packages/sklearn/model_selection/_search.py\u001b[0m in \u001b[0;36mfit\u001b[0;34m(self, X, y, groups, **fit_params)\u001b[0m\n\u001b[1;32m    637\u001b[0m         \"\"\"\n\u001b[1;32m    638\u001b[0m \u001b[0;34m\u001b[0m\u001b[0m\n\u001b[0;32m--> 639\u001b[0;31m         \u001b[0;32mif\u001b[0m \u001b[0mself\u001b[0m\u001b[0;34m.\u001b[0m\u001b[0mfit_params\u001b[0m \u001b[0;32mis\u001b[0m \u001b[0;32mnot\u001b[0m \u001b[0;32mNone\u001b[0m\u001b[0;34m:\u001b[0m\u001b[0;34m\u001b[0m\u001b[0m\n\u001b[0m\u001b[1;32m    640\u001b[0m             warnings.warn('\"fit_params\" as a constructor argument was '\n\u001b[1;32m    641\u001b[0m                           \u001b[0;34m'deprecated in version 0.19 and will be removed '\u001b[0m\u001b[0;34m\u001b[0m\u001b[0m\n",
      "\u001b[0;32m~/Secret/anaconda3/lib/python3.6/site-packages/sklearn/externals/joblib/parallel.py\u001b[0m in \u001b[0;36m__call__\u001b[0;34m(self, iterable)\u001b[0m\n\u001b[1;32m    777\u001b[0m            \u001b[0mof\u001b[0m \u001b[0mtime\u001b[0m\u001b[0;34m,\u001b[0m \u001b[0mcontrolled\u001b[0m \u001b[0mby\u001b[0m \u001b[0mself\u001b[0m\u001b[0;34m.\u001b[0m\u001b[0mverbose\u001b[0m\u001b[0;34m.\u001b[0m\u001b[0;34m\u001b[0m\u001b[0m\n\u001b[1;32m    778\u001b[0m         \"\"\"\n\u001b[0;32m--> 779\u001b[0;31m         \u001b[0;32mif\u001b[0m \u001b[0;32mnot\u001b[0m \u001b[0mself\u001b[0m\u001b[0;34m.\u001b[0m\u001b[0mverbose\u001b[0m\u001b[0;34m:\u001b[0m\u001b[0;34m\u001b[0m\u001b[0m\n\u001b[0m\u001b[1;32m    780\u001b[0m             \u001b[0;32mreturn\u001b[0m\u001b[0;34m\u001b[0m\u001b[0m\n\u001b[1;32m    781\u001b[0m         \u001b[0melapsed_time\u001b[0m \u001b[0;34m=\u001b[0m \u001b[0mtime\u001b[0m\u001b[0;34m.\u001b[0m\u001b[0mtime\u001b[0m\u001b[0;34m(\u001b[0m\u001b[0;34m)\u001b[0m \u001b[0;34m-\u001b[0m \u001b[0mself\u001b[0m\u001b[0;34m.\u001b[0m\u001b[0m_start_time\u001b[0m\u001b[0;34m\u001b[0m\u001b[0m\n",
      "\u001b[0;32m~/Secret/anaconda3/lib/python3.6/site-packages/sklearn/externals/joblib/parallel.py\u001b[0m in \u001b[0;36mdispatch_one_batch\u001b[0;34m(self, iterator)\u001b[0m\n\u001b[1;32m    623\u001b[0m             \u001b[0;32mpass\u001b[0m\u001b[0;34m\u001b[0m\u001b[0m\n\u001b[1;32m    624\u001b[0m         \u001b[0;32melif\u001b[0m \u001b[0mhasattr\u001b[0m\u001b[0;34m(\u001b[0m\u001b[0mbackend\u001b[0m\u001b[0;34m,\u001b[0m \u001b[0;34m'Pool'\u001b[0m\u001b[0;34m)\u001b[0m \u001b[0;32mand\u001b[0m \u001b[0mhasattr\u001b[0m\u001b[0;34m(\u001b[0m\u001b[0mbackend\u001b[0m\u001b[0;34m,\u001b[0m \u001b[0;34m'Lock'\u001b[0m\u001b[0;34m)\u001b[0m\u001b[0;34m:\u001b[0m\u001b[0;34m\u001b[0m\u001b[0m\n\u001b[0;32m--> 625\u001b[0;31m             \u001b[0;31m# Make it possible to pass a custom multiprocessing context as\u001b[0m\u001b[0;34m\u001b[0m\u001b[0;34m\u001b[0m\u001b[0m\n\u001b[0m\u001b[1;32m    626\u001b[0m             \u001b[0;31m# backend to change the start method to forkserver or spawn or\u001b[0m\u001b[0;34m\u001b[0m\u001b[0;34m\u001b[0m\u001b[0m\n\u001b[1;32m    627\u001b[0m             \u001b[0;31m# preload modules on the forkserver helper process.\u001b[0m\u001b[0;34m\u001b[0m\u001b[0;34m\u001b[0m\u001b[0m\n",
      "\u001b[0;32m~/Secret/anaconda3/lib/python3.6/site-packages/sklearn/externals/joblib/parallel.py\u001b[0m in \u001b[0;36m_dispatch\u001b[0;34m(self, batch)\u001b[0m\n\u001b[1;32m    586\u001b[0m                  \u001b[0mtemp_folder\u001b[0m\u001b[0;34m=\u001b[0m\u001b[0;32mNone\u001b[0m\u001b[0;34m,\u001b[0m \u001b[0mmax_nbytes\u001b[0m\u001b[0;34m=\u001b[0m\u001b[0;34m'1M'\u001b[0m\u001b[0;34m,\u001b[0m \u001b[0mmmap_mode\u001b[0m\u001b[0;34m=\u001b[0m\u001b[0;34m'r'\u001b[0m\u001b[0;34m,\u001b[0m\u001b[0;34m\u001b[0m\u001b[0m\n\u001b[1;32m    587\u001b[0m                  prefer=None, require=None):\n\u001b[0;32m--> 588\u001b[0;31m         active_backend, context_n_jobs = get_active_backend(\n\u001b[0m\u001b[1;32m    589\u001b[0m             prefer=prefer, require=require, verbose=verbose)\n\u001b[1;32m    590\u001b[0m         \u001b[0;32mif\u001b[0m \u001b[0mbackend\u001b[0m \u001b[0;32mis\u001b[0m \u001b[0;32mNone\u001b[0m \u001b[0;32mand\u001b[0m \u001b[0mn_jobs\u001b[0m \u001b[0;32mis\u001b[0m \u001b[0;32mNone\u001b[0m\u001b[0;34m:\u001b[0m\u001b[0;34m\u001b[0m\u001b[0m\n",
      "\u001b[0;32m~/Secret/anaconda3/lib/python3.6/site-packages/sklearn/externals/joblib/_parallel_backends.py\u001b[0m in \u001b[0;36mapply_async\u001b[0;34m(self, func, callback)\u001b[0m\n\u001b[1;32m    109\u001b[0m         \u001b[0mare\u001b[0m \u001b[0mexpected\u001b[0m \u001b[0mto\u001b[0m \u001b[0mbe\u001b[0m \u001b[0msubmitted\u001b[0m \u001b[0mto\u001b[0m \u001b[0mthis\u001b[0m \u001b[0mbackend\u001b[0m\u001b[0;34m.\u001b[0m\u001b[0;34m\u001b[0m\u001b[0m\n\u001b[1;32m    110\u001b[0m \u001b[0;34m\u001b[0m\u001b[0m\n\u001b[0;32m--> 111\u001b[0;31m         \u001b[0mSetting\u001b[0m \u001b[0mensure_ready\u001b[0m \u001b[0mto\u001b[0m \u001b[0;32mFalse\u001b[0m \u001b[0;32mis\u001b[0m \u001b[0man\u001b[0m \u001b[0moptimization\u001b[0m \u001b[0mthat\u001b[0m \u001b[0mcan\u001b[0m \u001b[0mbe\u001b[0m \u001b[0mleveraged\u001b[0m\u001b[0;34m\u001b[0m\u001b[0m\n\u001b[0m\u001b[1;32m    112\u001b[0m         \u001b[0mwhen\u001b[0m \u001b[0maborting\u001b[0m \u001b[0mtasks\u001b[0m \u001b[0mvia\u001b[0m \u001b[0mkilling\u001b[0m \u001b[0mprocesses\u001b[0m \u001b[0;32mfrom\u001b[0m \u001b[0ma\u001b[0m \u001b[0mlocal\u001b[0m \u001b[0mprocess\u001b[0m \u001b[0mpool\u001b[0m\u001b[0;34m\u001b[0m\u001b[0m\n\u001b[1;32m    113\u001b[0m         \u001b[0mmanaged\u001b[0m \u001b[0mby\u001b[0m \u001b[0mthe\u001b[0m \u001b[0mbackend\u001b[0m \u001b[0mit\u001b[0m\u001b[0;34m-\u001b[0m\u001b[0mself\u001b[0m\u001b[0;34m:\u001b[0m \u001b[0;32mif\u001b[0m \u001b[0mwe\u001b[0m \u001b[0mexpect\u001b[0m \u001b[0mno\u001b[0m \u001b[0mnew\u001b[0m \u001b[0mtasks\u001b[0m\u001b[0;34m,\u001b[0m \u001b[0mthere\u001b[0m \u001b[0;32mis\u001b[0m \u001b[0mno\u001b[0m\u001b[0;34m\u001b[0m\u001b[0m\n",
      "\u001b[0;32m~/Secret/anaconda3/lib/python3.6/site-packages/sklearn/externals/joblib/_parallel_backends.py\u001b[0m in \u001b[0;36m__init__\u001b[0;34m(self, batch)\u001b[0m\n\u001b[1;32m    330\u001b[0m \u001b[0;32mclass\u001b[0m \u001b[0mThreadingBackend\u001b[0m\u001b[0;34m(\u001b[0m\u001b[0mPoolManagerMixin\u001b[0m\u001b[0;34m,\u001b[0m \u001b[0mParallelBackendBase\u001b[0m\u001b[0;34m)\u001b[0m\u001b[0;34m:\u001b[0m\u001b[0;34m\u001b[0m\u001b[0m\n\u001b[1;32m    331\u001b[0m     \"\"\"A ParallelBackend which will use a thread pool to execute batches in.\n\u001b[0;32m--> 332\u001b[0;31m \u001b[0;34m\u001b[0m\u001b[0m\n\u001b[0m\u001b[1;32m    333\u001b[0m     \u001b[0mThis\u001b[0m \u001b[0;32mis\u001b[0m \u001b[0ma\u001b[0m \u001b[0mlow\u001b[0m\u001b[0;34m-\u001b[0m\u001b[0moverhead\u001b[0m \u001b[0mbackend\u001b[0m \u001b[0mbut\u001b[0m \u001b[0mit\u001b[0m \u001b[0msuffers\u001b[0m \u001b[0;32mfrom\u001b[0m \u001b[0mthe\u001b[0m \u001b[0mPython\u001b[0m \u001b[0mGlobal\u001b[0m\u001b[0;34m\u001b[0m\u001b[0m\n\u001b[1;32m    334\u001b[0m     \u001b[0mInterpreter\u001b[0m \u001b[0mLock\u001b[0m \u001b[0;32mif\u001b[0m \u001b[0mthe\u001b[0m \u001b[0mcalled\u001b[0m \u001b[0mfunction\u001b[0m \u001b[0mrelies\u001b[0m \u001b[0ma\u001b[0m \u001b[0mlot\u001b[0m \u001b[0mon\u001b[0m \u001b[0mPython\u001b[0m \u001b[0mobjects\u001b[0m\u001b[0;34m.\u001b[0m\u001b[0;34m\u001b[0m\u001b[0m\n",
      "\u001b[0;32m~/Secret/anaconda3/lib/python3.6/site-packages/sklearn/externals/joblib/parallel.py\u001b[0m in \u001b[0;36m__call__\u001b[0;34m(self)\u001b[0m\n\u001b[1;32m    129\u001b[0m \u001b[0;34m\u001b[0m\u001b[0m\n\u001b[1;32m    130\u001b[0m     \u001b[0;34m-\u001b[0m \u001b[0;34m'loky'\u001b[0m\u001b[0;34m:\u001b[0m \u001b[0msingle\u001b[0m\u001b[0;34m-\u001b[0m\u001b[0mhost\u001b[0m\u001b[0;34m,\u001b[0m \u001b[0mprocess\u001b[0m\u001b[0;34m-\u001b[0m\u001b[0mbased\u001b[0m \u001b[0mparallelism\u001b[0m \u001b[0;34m(\u001b[0m\u001b[0mused\u001b[0m \u001b[0mby\u001b[0m \u001b[0mdefault\u001b[0m\u001b[0;34m)\u001b[0m\u001b[0;34m,\u001b[0m\u001b[0;34m\u001b[0m\u001b[0m\n\u001b[0;32m--> 131\u001b[0;31m     \u001b[0;34m-\u001b[0m \u001b[0;34m'threading'\u001b[0m\u001b[0;34m:\u001b[0m \u001b[0msingle\u001b[0m\u001b[0;34m-\u001b[0m\u001b[0mhost\u001b[0m\u001b[0;34m,\u001b[0m \u001b[0mthread\u001b[0m\u001b[0;34m-\u001b[0m\u001b[0mbased\u001b[0m \u001b[0mparallelism\u001b[0m\u001b[0;34m,\u001b[0m\u001b[0;34m\u001b[0m\u001b[0m\n\u001b[0m\u001b[1;32m    132\u001b[0m     \u001b[0;34m-\u001b[0m \u001b[0;34m'multiprocessing'\u001b[0m\u001b[0;34m:\u001b[0m \u001b[0mlegacy\u001b[0m \u001b[0msingle\u001b[0m\u001b[0;34m-\u001b[0m\u001b[0mhost\u001b[0m\u001b[0;34m,\u001b[0m \u001b[0mprocess\u001b[0m\u001b[0;34m-\u001b[0m\u001b[0mbased\u001b[0m \u001b[0mparallelism\u001b[0m\u001b[0;34m.\u001b[0m\u001b[0;34m\u001b[0m\u001b[0m\n\u001b[1;32m    133\u001b[0m \u001b[0;34m\u001b[0m\u001b[0m\n",
      "\u001b[0;32m~/Secret/anaconda3/lib/python3.6/site-packages/sklearn/externals/joblib/parallel.py\u001b[0m in \u001b[0;36m<listcomp>\u001b[0;34m(.0)\u001b[0m\n\u001b[1;32m    129\u001b[0m \u001b[0;34m\u001b[0m\u001b[0m\n\u001b[1;32m    130\u001b[0m     \u001b[0;34m-\u001b[0m \u001b[0;34m'loky'\u001b[0m\u001b[0;34m:\u001b[0m \u001b[0msingle\u001b[0m\u001b[0;34m-\u001b[0m\u001b[0mhost\u001b[0m\u001b[0;34m,\u001b[0m \u001b[0mprocess\u001b[0m\u001b[0;34m-\u001b[0m\u001b[0mbased\u001b[0m \u001b[0mparallelism\u001b[0m \u001b[0;34m(\u001b[0m\u001b[0mused\u001b[0m \u001b[0mby\u001b[0m \u001b[0mdefault\u001b[0m\u001b[0;34m)\u001b[0m\u001b[0;34m,\u001b[0m\u001b[0;34m\u001b[0m\u001b[0m\n\u001b[0;32m--> 131\u001b[0;31m     \u001b[0;34m-\u001b[0m \u001b[0;34m'threading'\u001b[0m\u001b[0;34m:\u001b[0m \u001b[0msingle\u001b[0m\u001b[0;34m-\u001b[0m\u001b[0mhost\u001b[0m\u001b[0;34m,\u001b[0m \u001b[0mthread\u001b[0m\u001b[0;34m-\u001b[0m\u001b[0mbased\u001b[0m \u001b[0mparallelism\u001b[0m\u001b[0;34m,\u001b[0m\u001b[0;34m\u001b[0m\u001b[0m\n\u001b[0m\u001b[1;32m    132\u001b[0m     \u001b[0;34m-\u001b[0m \u001b[0;34m'multiprocessing'\u001b[0m\u001b[0;34m:\u001b[0m \u001b[0mlegacy\u001b[0m \u001b[0msingle\u001b[0m\u001b[0;34m-\u001b[0m\u001b[0mhost\u001b[0m\u001b[0;34m,\u001b[0m \u001b[0mprocess\u001b[0m\u001b[0;34m-\u001b[0m\u001b[0mbased\u001b[0m \u001b[0mparallelism\u001b[0m\u001b[0;34m.\u001b[0m\u001b[0;34m\u001b[0m\u001b[0m\n\u001b[1;32m    133\u001b[0m \u001b[0;34m\u001b[0m\u001b[0m\n",
      "\u001b[0;32m~/Secret/anaconda3/lib/python3.6/site-packages/sklearn/model_selection/_validation.py\u001b[0m in \u001b[0;36m_fit_and_score\u001b[0;34m(estimator, X, y, scorer, train, test, verbose, parameters, fit_params, return_train_score, return_parameters, return_n_test_samples, return_times, error_score)\u001b[0m\n\u001b[1;32m    456\u001b[0m \u001b[0;34m\u001b[0m\u001b[0m\n\u001b[1;32m    457\u001b[0m     \u001b[0mfit_params\u001b[0m \u001b[0;34m:\u001b[0m \u001b[0mdict\u001b[0m \u001b[0;32mor\u001b[0m \u001b[0;32mNone\u001b[0m\u001b[0;34m\u001b[0m\u001b[0m\n\u001b[0;32m--> 458\u001b[0;31m         \u001b[0mParameters\u001b[0m \u001b[0mthat\u001b[0m \u001b[0mwill\u001b[0m \u001b[0mbe\u001b[0m \u001b[0mpassed\u001b[0m \u001b[0mto\u001b[0m\u001b[0;31m \u001b[0m\u001b[0;31m`\u001b[0m\u001b[0;31m`\u001b[0m\u001b[0mestimator\u001b[0m\u001b[0;34m.\u001b[0m\u001b[0mfit\u001b[0m\u001b[0;31m`\u001b[0m\u001b[0;31m`\u001b[0m\u001b[0;34m.\u001b[0m\u001b[0;34m\u001b[0m\u001b[0m\n\u001b[0m\u001b[1;32m    459\u001b[0m \u001b[0;34m\u001b[0m\u001b[0m\n\u001b[1;32m    460\u001b[0m     \u001b[0mreturn_train_score\u001b[0m \u001b[0;34m:\u001b[0m \u001b[0mboolean\u001b[0m\u001b[0;34m,\u001b[0m \u001b[0moptional\u001b[0m\u001b[0;34m,\u001b[0m \u001b[0mdefault\u001b[0m\u001b[0;34m:\u001b[0m \u001b[0;32mFalse\u001b[0m\u001b[0;34m\u001b[0m\u001b[0m\n",
      "\u001b[0;32m~/Secret/anaconda3/lib/python3.6/site-packages/xgboost/sklearn.py\u001b[0m in \u001b[0;36mfit\u001b[0;34m(self, X, y, sample_weight, eval_set, eval_metric, early_stopping_rounds, verbose, xgb_model, sample_weight_eval_set, callbacks)\u001b[0m\n\u001b[1;32m    666\u001b[0m                 \u001b[0mxgb_options\u001b[0m\u001b[0;34m.\u001b[0m\u001b[0mupdate\u001b[0m\u001b[0;34m(\u001b[0m\u001b[0;34m{\u001b[0m\u001b[0;34m\"eval_metric\"\u001b[0m\u001b[0;34m:\u001b[0m \u001b[0meval_metric\u001b[0m\u001b[0;34m}\u001b[0m\u001b[0;34m)\u001b[0m\u001b[0;34m\u001b[0m\u001b[0m\n\u001b[1;32m    667\u001b[0m \u001b[0;34m\u001b[0m\u001b[0m\n\u001b[0;32m--> 668\u001b[0;31m         \u001b[0mself\u001b[0m\u001b[0;34m.\u001b[0m\u001b[0m_le\u001b[0m \u001b[0;34m=\u001b[0m \u001b[0mXGBLabelEncoder\u001b[0m\u001b[0;34m(\u001b[0m\u001b[0;34m)\u001b[0m\u001b[0;34m.\u001b[0m\u001b[0mfit\u001b[0m\u001b[0;34m(\u001b[0m\u001b[0my\u001b[0m\u001b[0;34m)\u001b[0m\u001b[0;34m\u001b[0m\u001b[0m\n\u001b[0m\u001b[1;32m    669\u001b[0m         \u001b[0mtraining_labels\u001b[0m \u001b[0;34m=\u001b[0m \u001b[0mself\u001b[0m\u001b[0;34m.\u001b[0m\u001b[0m_le\u001b[0m\u001b[0;34m.\u001b[0m\u001b[0mtransform\u001b[0m\u001b[0;34m(\u001b[0m\u001b[0my\u001b[0m\u001b[0;34m)\u001b[0m\u001b[0;34m\u001b[0m\u001b[0m\n\u001b[1;32m    670\u001b[0m \u001b[0;34m\u001b[0m\u001b[0m\n",
      "\u001b[0;32m~/Secret/anaconda3/lib/python3.6/site-packages/sklearn/preprocessing/label.py\u001b[0m in \u001b[0;36mfit\u001b[0;34m(self, y)\u001b[0m\n\u001b[1;32m     93\u001b[0m         \u001b[0mcan\u001b[0m \u001b[0mbe\u001b[0m \u001b[0mbecause\u001b[0m \u001b[0mthe\u001b[0m \u001b[0muser\u001b[0m \u001b[0mspecified\u001b[0m \u001b[0mcategories\u001b[0m\u001b[0;34m,\u001b[0m \u001b[0;32mor\u001b[0m \u001b[0mbecause\u001b[0m \u001b[0mthey\u001b[0m\u001b[0;34m\u001b[0m\u001b[0m\n\u001b[1;32m     94\u001b[0m         already have been determined in fit).\n\u001b[0;32m---> 95\u001b[0;31m     \u001b[0mencode\u001b[0m \u001b[0;34m:\u001b[0m \u001b[0mbool\u001b[0m\u001b[0;34m,\u001b[0m \u001b[0mdefault\u001b[0m \u001b[0;32mFalse\u001b[0m\u001b[0;34m\u001b[0m\u001b[0m\n\u001b[0m\u001b[1;32m     96\u001b[0m         \u001b[0mIf\u001b[0m \u001b[0;32mTrue\u001b[0m\u001b[0;34m,\u001b[0m \u001b[0malso\u001b[0m \u001b[0mencode\u001b[0m \u001b[0mthe\u001b[0m \u001b[0mvalues\u001b[0m \u001b[0minto\u001b[0m \u001b[0minteger\u001b[0m \u001b[0mcodes\u001b[0m \u001b[0mbased\u001b[0m \u001b[0mon\u001b[0m\u001b[0;31m \u001b[0m\u001b[0;31m`\u001b[0m\u001b[0muniques\u001b[0m\u001b[0;31m`\u001b[0m\u001b[0;34m.\u001b[0m\u001b[0;34m\u001b[0m\u001b[0m\n\u001b[1;32m     97\u001b[0m \u001b[0;34m\u001b[0m\u001b[0m\n",
      "\u001b[0;32m~/Secret/anaconda3/lib/python3.6/site-packages/sklearn/utils/validation.py\u001b[0m in \u001b[0;36mcolumn_or_1d\u001b[0;34m(y, warn)\u001b[0m\n\u001b[1;32m    612\u001b[0m \u001b[0;34m\u001b[0m\u001b[0m\n\u001b[1;32m    613\u001b[0m \u001b[0;32mdef\u001b[0m \u001b[0m_check_large_sparse\u001b[0m\u001b[0;34m(\u001b[0m\u001b[0mX\u001b[0m\u001b[0;34m,\u001b[0m \u001b[0maccept_large_sparse\u001b[0m\u001b[0;34m=\u001b[0m\u001b[0;32mFalse\u001b[0m\u001b[0;34m)\u001b[0m\u001b[0;34m:\u001b[0m\u001b[0;34m\u001b[0m\u001b[0m\n\u001b[0;32m--> 614\u001b[0;31m     \"\"\"Raise a ValueError if X has 64bit indices and accept_large_sparse=False\n\u001b[0m\u001b[1;32m    615\u001b[0m     \"\"\"\n\u001b[1;32m    616\u001b[0m     \u001b[0;32mif\u001b[0m \u001b[0;32mnot\u001b[0m \u001b[0;34m(\u001b[0m\u001b[0maccept_large_sparse\u001b[0m \u001b[0;32mand\u001b[0m \u001b[0mLARGE_SPARSE_SUPPORTED\u001b[0m\u001b[0;34m)\u001b[0m\u001b[0;34m:\u001b[0m\u001b[0;34m\u001b[0m\u001b[0m\n",
      "\u001b[0;31mValueError\u001b[0m: bad input shape (5258, 20)"
     ]
    }
   ],
   "source": [
    "# These are most important parameters\n",
    "parameters  = {'max_depth':np.arange(5, 25, 5), # Took a few tries to find this range\n",
    "               'min_child_weight':np.arange(1,3, 1)}\n",
    "model       = xgb.XGBClassifier(learning_rate=0.1, n_estimators=20, objective='binary:logistic', seed=42)\n",
    "\n",
    "grid_search = GridSearchCV(estimator=model, param_grid=parameters,\n",
    "                           scoring='roc_auc', cv=3, verbose=50)\n",
    "\n",
    "#y = label_binarize(y_train, classes=range(20))\n",
    "grid_search.fit(X_train, y_train)\n",
    "grid_search.grid_scores_, grid_search.best_params_, grid_search.best_score_"
   ]
  },
  {
   "cell_type": "code",
   "execution_count": null,
   "metadata": {},
   "outputs": [],
   "source": []
  },
  {
   "cell_type": "markdown",
   "metadata": {},
   "source": [
    "## 2.3 Topic Modelling\n",
    "The model in its current form demonstrates what is possible when all of our data is labelled. now let's explore how we can soft cluster the data when the labels are withheld. \n",
    "<hr>"
   ]
  },
  {
   "cell_type": "code",
   "execution_count": 46,
   "metadata": {},
   "outputs": [],
   "source": [
    "''' Convert python dictionary to gensim.corpora.Dictionary'''\n",
    "all_tokens = []\n",
    "for k in dic_train.keys():\n",
    "        all_tokens.append([k])\n",
    "dictionary = gensim.corpora.Dictionary(all_tokens)\n"
   ]
  },
  {
   "cell_type": "markdown",
   "metadata": {},
   "source": [
    "It's necessary to recreate the tf-idf mappings in some way that the Gensim library can understand, to feed the LDA algorithm. Note that the mappings are identical to those created by the sklearn library. From an experimental perspective, this control is neccesary to compare models."
   ]
  },
  {
   "cell_type": "code",
   "execution_count": 51,
   "metadata": {},
   "outputs": [
    {
     "name": "stdout",
     "output_type": "stream",
     "text": [
      "For a random data point, the tf-idf mapping looks like: \n",
      "\n",
      "[(5, 0.14049331632726408), (39, 0.08650108026883466), (120, 0.14472133354837335), (343, 0.3742777121960195), (432, 0.14007515978058832), (512, 0.20883990791722568), (517, 0.17609562820749658), (534, 0.13952286113877255), (551, 0.1740380789211301), (611, 0.2223952860059055), (739, 0.12425112456059481), (960, 0.18713885609800976), (1054, 0.26580050390596094), (1064, 0.15179749285082628), (1184, 0.19282115654117993), (1428, 0.16516884311683047), (1499, 0.16241559677071635), (1855, 0.1795693987065541), (1861, 0.22823000951551625), (1960, 0.26911541396008914), (2516, 0.47596458338881387)]\n"
     ]
    }
   ],
   "source": [
    "def create_tfidf_corpus(dictionary):\n",
    "    bow_corpus = [dictionary.doc2bow(doc) for doc in df_train['processed_text'].tolist()]\n",
    "    tfidf_model = models.TfidfModel(bow_corpus)\n",
    "    corpus_tfidf = tfidf_model[bow_corpus]\n",
    "    return corpus_tfidf\n",
    "\n",
    "corpus_tfidf = create_tfidf_corpus(dictionary)\n",
    "print(\"For a random data point, the tf-idf mapping looks like: \\n\\n\" + str(corpus_tfidf[1000]))\n"
   ]
  },
  {
   "cell_type": "markdown",
   "metadata": {},
   "source": [
    "Each token has an integer key and a corresponding weighting."
   ]
  },
  {
   "cell_type": "code",
   "execution_count": 49,
   "metadata": {
    "scrolled": true
   },
   "outputs": [
    {
     "name": "stdout",
     "output_type": "stream",
     "text": [
      "Topic: 0 \n",
      "Words: 0.002*\"window\" + 0.002*\"know\" + 0.002*\"car\" + 0.002*\"thank\" + 0.002*\"use\" + 0.002*\"work\" + 0.002*\"like\" + 0.002*\"good\" + 0.001*\"think\" + 0.001*\"program\" + 0.001*\"say\" + 0.001*\"address\" + 0.001*\"run\" + 0.001*\"color\" + 0.001*\"new\" + 0.001*\"want\" + 0.001*\"time\" + 0.001*\"mode\" + 0.001*\"look\" + 0.001*\"year\"\n",
      "\n",
      "Topic: 1 \n",
      "Words: 0.002*\"thank\" + 0.002*\"cdt\" + 0.002*\"game\" + 0.002*\"tri\" + 0.001*\"year\" + 0.001*\"post\" + 0.001*\"know\" + 0.001*\"look\" + 0.001*\"time\" + 0.001*\"work\" + 0.001*\"like\" + 0.001*\"score\" + 0.001*\"window\" + 0.001*\"good\" + 0.001*\"team\" + 0.001*\"get\" + 0.001*\"drive\" + 0.001*\"think\" + 0.001*\"use\" + 0.001*\"driver\"\n",
      "\n",
      "Topic: 2 \n",
      "Words: 0.003*\"key\" + 0.003*\"encrypt\" + 0.002*\"chip\" + 0.002*\"cramer\" + 0.002*\"secur\" + 0.002*\"peopl\" + 0.002*\"govern\" + 0.002*\"know\" + 0.002*\"use\" + 0.002*\"law\" + 0.002*\"new\" + 0.001*\"good\" + 0.001*\"like\" + 0.001*\"think\" + 0.001*\"clipper\" + 0.001*\"window\" + 0.001*\"crypto\" + 0.001*\"right\" + 0.001*\"escrow\" + 0.001*\"time\"\n",
      "\n",
      "Topic: 3 \n",
      "Words: 0.003*\"god\" + 0.002*\"armenian\" + 0.002*\"peopl\" + 0.002*\"turkish\" + 0.002*\"think\" + 0.002*\"jesu\" + 0.002*\"like\" + 0.002*\"need\" + 0.002*\"know\" + 0.001*\"come\" + 0.001*\"good\" + 0.001*\"time\" + 0.001*\"law\" + 0.001*\"way\" + 0.001*\"work\" + 0.001*\"govern\" + 0.001*\"right\" + 0.001*\"state\" + 0.001*\"year\" + 0.001*\"say\"\n",
      "\n",
      "Topic: 4 \n",
      "Words: 0.003*\"peopl\" + 0.003*\"gun\" + 0.003*\"god\" + 0.002*\"drive\" + 0.002*\"christian\" + 0.002*\"think\" + 0.002*\"like\" + 0.002*\"jesu\" + 0.002*\"know\" + 0.002*\"believ\" + 0.002*\"right\" + 0.002*\"law\" + 0.002*\"islam\" + 0.002*\"say\" + 0.002*\"time\" + 0.001*\"thank\" + 0.001*\"use\" + 0.001*\"want\" + 0.001*\"life\" + 0.001*\"thing\"\n",
      "\n",
      "Topic: 5 \n",
      "Words: 0.002*\"team\" + 0.002*\"game\" + 0.002*\"think\" + 0.002*\"play\" + 0.002*\"like\" + 0.002*\"year\" + 0.002*\"good\" + 0.002*\"henri\" + 0.002*\"know\" + 0.002*\"peopl\" + 0.002*\"work\" + 0.002*\"player\" + 0.001*\"win\" + 0.001*\"bike\" + 0.001*\"right\" + 0.001*\"use\" + 0.001*\"toronto\" + 0.001*\"dod\" + 0.001*\"go\" + 0.001*\"drive\"\n",
      "\n",
      "Topic: 6 \n",
      "Words: 0.002*\"like\" + 0.002*\"drive\" + 0.002*\"thank\" + 0.002*\"think\" + 0.002*\"know\" + 0.001*\"get\" + 0.001*\"good\" + 0.001*\"god\" + 0.001*\"thing\" + 0.001*\"tell\" + 0.001*\"use\" + 0.001*\"interest\" + 0.001*\"look\" + 0.001*\"disk\" + 0.001*\"time\" + 0.001*\"tri\" + 0.001*\"program\" + 0.001*\"window\" + 0.001*\"need\" + 0.001*\"want\"\n",
      "\n",
      "Topic: 7 \n",
      "Words: 0.002*\"know\" + 0.002*\"window\" + 0.002*\"thank\" + 0.002*\"problem\" + 0.002*\"tri\" + 0.002*\"like\" + 0.001*\"run\" + 0.001*\"new\" + 0.001*\"work\" + 0.001*\"think\" + 0.001*\"simm\" + 0.001*\"help\" + 0.001*\"use\" + 0.001*\"drive\" + 0.001*\"error\" + 0.001*\"good\" + 0.001*\"right\" + 0.001*\"say\" + 0.001*\"code\" + 0.001*\"file\"\n",
      "\n",
      "Topic: 8 \n",
      "Words: 0.002*\"problem\" + 0.002*\"like\" + 0.002*\"test\" + 0.002*\"program\" + 0.002*\"use\" + 0.002*\"key\" + 0.002*\"israel\" + 0.002*\"good\" + 0.002*\"know\" + 0.002*\"space\" + 0.001*\"time\" + 0.001*\"window\" + 0.001*\"think\" + 0.001*\"year\" + 0.001*\"need\" + 0.001*\"avail\" + 0.001*\"peopl\" + 0.001*\"question\" + 0.001*\"file\" + 0.001*\"look\"\n",
      "\n",
      "Topic: 9 \n",
      "Words: 0.002*\"thank\" + 0.002*\"know\" + 0.002*\"window\" + 0.001*\"cub\" + 0.001*\"stat\" + 0.001*\"like\" + 0.001*\"think\" + 0.001*\"good\" + 0.001*\"game\" + 0.001*\"run\" + 0.001*\"look\" + 0.001*\"packag\" + 0.001*\"use\" + 0.001*\"drive\" + 0.001*\"send\" + 0.001*\"list\" + 0.001*\"sox\" + 0.001*\"driver\" + 0.001*\"team\" + 0.001*\"basebal\"\n",
      "\n",
      "Topic: 10 \n",
      "Words: 0.003*\"god\" + 0.002*\"think\" + 0.002*\"christian\" + 0.002*\"atheist\" + 0.002*\"sandvik\" + 0.002*\"know\" + 0.002*\"say\" + 0.002*\"peopl\" + 0.002*\"religion\" + 0.002*\"kent\" + 0.002*\"belief\" + 0.001*\"ksand\" + 0.001*\"alink\" + 0.001*\"like\" + 0.001*\"believ\" + 0.001*\"activ\" + 0.001*\"time\" + 0.001*\"net\" + 0.001*\"good\" + 0.001*\"video\"\n",
      "\n",
      "Topic: 11 \n",
      "Words: 0.002*\"window\" + 0.002*\"know\" + 0.002*\"time\" + 0.002*\"like\" + 0.002*\"need\" + 0.001*\"think\" + 0.001*\"new\" + 0.001*\"file\" + 0.001*\"thank\" + 0.001*\"thing\" + 0.001*\"tell\" + 0.001*\"get\" + 0.001*\"problem\" + 0.001*\"use\" + 0.001*\"want\" + 0.001*\"work\" + 0.001*\"behanna\" + 0.001*\"drive\" + 0.001*\"armenian\" + 0.001*\"card\"\n",
      "\n",
      "Topic: 12 \n",
      "Words: 0.002*\"drive\" + 0.002*\"thank\" + 0.002*\"like\" + 0.001*\"look\" + 0.001*\"oracl\" + 0.001*\"font\" + 0.001*\"get\" + 0.001*\"dyer\" + 0.001*\"know\" + 0.001*\"new\" + 0.001*\"use\" + 0.001*\"problem\" + 0.001*\"buy\" + 0.001*\"key\" + 0.001*\"window\" + 0.001*\"good\" + 0.001*\"file\" + 0.001*\"jon\" + 0.001*\"appl\" + 0.001*\"say\"\n",
      "\n",
      "Topic: 13 \n",
      "Words: 0.002*\"peopl\" + 0.002*\"think\" + 0.002*\"tax\" + 0.002*\"want\" + 0.002*\"know\" + 0.002*\"like\" + 0.001*\"way\" + 0.001*\"post\" + 0.001*\"say\" + 0.001*\"time\" + 0.001*\"day\" + 0.001*\"come\" + 0.001*\"good\" + 0.001*\"let\" + 0.001*\"game\" + 0.001*\"work\" + 0.001*\"thank\" + 0.001*\"go\" + 0.001*\"monitor\" + 0.001*\"problem\"\n",
      "\n",
      "Topic: 14 \n",
      "Words: 0.002*\"thank\" + 0.002*\"know\" + 0.002*\"like\" + 0.001*\"work\" + 0.001*\"good\" + 0.001*\"run\" + 0.001*\"use\" + 0.001*\"problem\" + 0.001*\"peopl\" + 0.001*\"ask\" + 0.001*\"want\" + 0.001*\"file\" + 0.001*\"think\" + 0.001*\"time\" + 0.001*\"right\" + 0.001*\"new\" + 0.001*\"mac\" + 0.001*\"get\" + 0.001*\"tri\" + 0.001*\"email\"\n",
      "\n",
      "Topic: 15 \n",
      "Words: 0.002*\"know\" + 0.002*\"like\" + 0.002*\"think\" + 0.001*\"say\" + 0.001*\"good\" + 0.001*\"new\" + 0.001*\"opinion\" + 0.001*\"look\" + 0.001*\"time\" + 0.001*\"come\" + 0.001*\"thank\" + 0.001*\"post\" + 0.001*\"univers\" + 0.001*\"peopl\" + 0.001*\"read\" + 0.001*\"get\" + 0.001*\"team\" + 0.001*\"thing\" + 0.001*\"god\" + 0.001*\"tell\"\n",
      "\n",
      "Topic: 16 \n",
      "Words: 0.003*\"surrend\" + 0.003*\"chastiti\" + 0.003*\"n3jxp\" + 0.003*\"geb\" + 0.003*\"intellect\" + 0.003*\"skeptic\" + 0.003*\"shame\" + 0.003*\"bank\" + 0.003*\"gordon\" + 0.003*\"soon\" + 0.002*\"know\" + 0.002*\"ram\" + 0.002*\"card\" + 0.002*\"thank\" + 0.001*\"work\" + 0.001*\"like\" + 0.001*\"drive\" + 0.001*\"problem\" + 0.001*\"window\" + 0.001*\"email\"\n",
      "\n",
      "Topic: 17 \n",
      "Words: 0.002*\"thank\" + 0.002*\"know\" + 0.002*\"post\" + 0.002*\"like\" + 0.001*\"time\" + 0.001*\"need\" + 0.001*\"repli\" + 0.001*\"peopl\" + 0.001*\"use\" + 0.001*\"say\" + 0.001*\"think\" + 0.001*\"new\" + 0.001*\"look\" + 0.001*\"thing\" + 0.001*\"want\" + 0.001*\"card\" + 0.001*\"go\" + 0.001*\"appreci\" + 0.001*\"tri\" + 0.001*\"work\"\n",
      "\n",
      "Topic: 18 \n",
      "Words: 0.002*\"thank\" + 0.002*\"window\" + 0.001*\"know\" + 0.001*\"look\" + 0.001*\"card\" + 0.001*\"post\" + 0.001*\"like\" + 0.001*\"new\" + 0.001*\"file\" + 0.001*\"good\" + 0.001*\"problem\" + 0.001*\"think\" + 0.001*\"work\" + 0.001*\"tri\" + 0.001*\"need\" + 0.001*\"do\" + 0.001*\"car\" + 0.001*\"interest\" + 0.001*\"help\" + 0.001*\"want\"\n",
      "\n",
      "Topic: 19 \n",
      "Words: 0.003*\"game\" + 0.002*\"thank\" + 0.002*\"window\" + 0.002*\"jake\" + 0.002*\"file\" + 0.002*\"know\" + 0.002*\"think\" + 0.001*\"good\" + 0.001*\"work\" + 0.001*\"driver\" + 0.001*\"use\" + 0.001*\"need\" + 0.001*\"number\" + 0.001*\"opinion\" + 0.001*\"like\" + 0.001*\"look\" + 0.001*\"want\" + 0.001*\"peopl\" + 0.001*\"ftp\" + 0.001*\"year\"\n",
      "\n"
     ]
    }
   ],
   "source": [
    "''' Run lda algorithm on corpus to generate model'''\n",
    "lda = gensim.models.LdaMulticore(corpus_tfidf, num_topics=20, id2word=dictionary, passes=5,\n",
    "                                       minimum_probability = 0.05)\n",
    "\n",
    "for i, topic in lda.print_topics(-1, num_words=20):\n",
    "    print('Topic: {} \\nWords: {}\\n'.format(i, topic))"
   ]
  },
  {
   "cell_type": "code",
   "execution_count": 52,
   "metadata": {
    "scrolled": true
   },
   "outputs": [
    {
     "name": "stdout",
     "output_type": "stream",
     "text": [
      "[[(5, 0.67874295), (13, 0.06328283), (18, 0.18290012)],\n",
      " [(19, 0.9568029)],\n",
      " [(4, 0.053307585),\n",
      "  (5, 0.051188752),\n",
      "  (8, 0.16711411),\n",
      "  (11, 0.4420756),\n",
      "  (12, 0.0783791)],\n",
      " [(4, 0.6106398), (8, 0.36116815)],\n",
      " [(3, 0.412599), (4, 0.4009665), (8, 0.10580623), (10, 0.07454508)],\n",
      " [(8, 0.9604029)],\n",
      " [(8, 0.5308554), (16, 0.43801963)],\n",
      " [(3, 0.5623741), (8, 0.40008998)],\n",
      " [(4, 0.13292828), (8, 0.24262966), (16, 0.6013138)],\n",
      " [(8, 0.5143407), (16, 0.19446018), (17, 0.28060645)],\n",
      " [(0, 0.23233396), (2, 0.1644503), (10, 0.1979714), (18, 0.37655982)],\n",
      " [(4, 0.8647798), (17, 0.11365934)],\n",
      " [(5, 0.17264444), (8, 0.8036352)],\n",
      " [(3, 0.5637019), (8, 0.21665008), (16, 0.20612678)],\n",
      " [(8, 0.33411998), (9, 0.60579365)],\n",
      " [(2, 0.6194408), (8, 0.3471739)],\n",
      " [(3, 0.3363222), (8, 0.61709785)],\n",
      " [(5, 0.26830238), (13, 0.7066667)],\n",
      " [(2, 0.89438045)],\n",
      " [(16, 0.16128393), (17, 0.7823454)],\n",
      " [(8, 0.49792194), (18, 0.47692773)],\n",
      " [(0, 0.95866334)],\n",
      " [(3, 0.177048), (4, 0.77557635)],\n",
      " [(7, 0.93665135)],\n",
      " [(4, 0.7640362), (9, 0.20933606)],\n",
      " [(2, 0.49870944), (8, 0.21328065), (19, 0.2225016)],\n",
      " [(8, 0.94719523)],\n",
      " [(3, 0.8444823), (8, 0.12792218)],\n",
      " [(5, 0.69727904), (13, 0.14747177), (18, 0.118234046)],\n",
      " [(4, 0.069656946), (8, 0.6444152), (10, 0.15407097), (12, 0.099353656)]]\n"
     ]
    }
   ],
   "source": [
    "'''Print a couple of sample vector embeddings'''\n",
    "vectors = []\n",
    "bow_corpus = [dictionary.doc2bow(doc) for doc in df_train['processed_text']]\n",
    "for i in range(0, 6000, 200):\n",
    "    vector = lda[bow_corpus[i]]\n",
    "    vectors.append(vector)\n",
    "pprint.pprint(vectors)"
   ]
  },
  {
   "cell_type": "markdown",
   "metadata": {},
   "source": [
    "<hr>\n",
    "Looking good so far! The topics, by cursory inspection, appear to denote semantically distinct topics. Also, testing an arbitrary sample of datapoints, it's clear that the data is mostly distributed between only a small number of clusters (1-3). (The minimum_probability=0.05 setting in the LDA model ignores contributions which are too small.)\n",
    "\n",
    "This is a good indicator that the LDA algorithm has identified the semantic structures within the data which separate the classes.\n",
    "<hr>"
   ]
  },
  {
   "cell_type": "markdown",
   "metadata": {},
   "source": [
    "<script type=\"text/x-mathjax-config\">MathJax.Hub.Config({tex2jax: {inlineMath:[['$','$']]}});</script>\n",
    "<script src='https://cdnjs.cloudflare.com/ajax/libs/mathjax/2.7.5/latest.js?config=default' async></script>\n",
    "\n",
    "## 2.4 Concealing the Labels, and Sampling Down the Data\n",
    "Now it's time to train classifiers on subsets of the training set, and compare how the raw classifier compares to classifiers trained on the topic embeddings of the data. This will allow us to build the \"relative accuracy\" metric, defined as: $acc_r=\\dfrac{acc_n - acc_t}{1-acc_t}$, where $acc_n$ is the accuracy of the classifier built with topic embeddings, and $acc_t$ is the accuracy of the classifeier built on tf-idf embeddings."
   ]
  },
  {
   "cell_type": "code",
   "execution_count": 62,
   "metadata": {},
   "outputs": [],
   "source": [
    "''' Utilities for preparing data for experimental method comparison '''\n",
    "\n",
    "# Sample data, partially maintaining stratification\n",
    "def sample_data(data, sample_size=0.1):\n",
    "    max_sample_size = max(data['class'].value_counts())\n",
    "    sampled_data = data.groupby('class', group_keys=False).apply(lambda x: x.sample(min(len(x), int(max_sample_size*sample_size)), random_state=42))\n",
    "    return sampled_data\n",
    "\n",
    "# Feed a datapoint, return 20-D topic embedding\n",
    "def vector_to_embedding(datapoint, lda_model):\n",
    "    vector = lda_model[datapoint]\n",
    "    embedding = np.zeros(20)\n",
    "    for elem in vector:\n",
    "        embedding[elem[0]] = elem[1]\n",
    "    return embedding\n",
    "\n",
    "def embed_data(sampled_data, lda_model):\n",
    "    columns = ['topic_{}'.format(i) for i in range(1, 21)]\n",
    "    embeddings = []\n",
    "    for i in sampled_data['bow_text'].tolist():\n",
    "        embedding = vector_to_embedding(i, lda)\n",
    "        embeddings.append(embedding)\n",
    "    embeddings = pd.DataFrame(embeddings, columns=columns)\n",
    "    \n",
    "    embedded_data = sampled_data.merge(embeddings, left_index=True, right_index=True)\n",
    "    return embedded_data\n",
    "    "
   ]
  },
  {
   "cell_type": "code",
   "execution_count": 69,
   "metadata": {},
   "outputs": [
    {
     "data": {
      "text/html": [
       "<div>\n",
       "<style scoped>\n",
       "    .dataframe tbody tr th:only-of-type {\n",
       "        vertical-align: middle;\n",
       "    }\n",
       "\n",
       "    .dataframe tbody tr th {\n",
       "        vertical-align: top;\n",
       "    }\n",
       "\n",
       "    .dataframe thead th {\n",
       "        text-align: right;\n",
       "    }\n",
       "</style>\n",
       "<table border=\"1\" class=\"dataframe\">\n",
       "  <thead>\n",
       "    <tr style=\"text-align: right;\">\n",
       "      <th></th>\n",
       "      <th>text</th>\n",
       "      <th>class</th>\n",
       "      <th>source</th>\n",
       "      <th>processed_text</th>\n",
       "      <th>bow_text</th>\n",
       "      <th>topic_1</th>\n",
       "      <th>topic_2</th>\n",
       "      <th>topic_3</th>\n",
       "      <th>topic_4</th>\n",
       "      <th>topic_5</th>\n",
       "      <th>...</th>\n",
       "      <th>topic_11</th>\n",
       "      <th>topic_12</th>\n",
       "      <th>topic_13</th>\n",
       "      <th>topic_14</th>\n",
       "      <th>topic_15</th>\n",
       "      <th>topic_16</th>\n",
       "      <th>topic_17</th>\n",
       "      <th>topic_18</th>\n",
       "      <th>topic_19</th>\n",
       "      <th>topic_20</th>\n",
       "    </tr>\n",
       "  </thead>\n",
       "  <tbody>\n",
       "    <tr>\n",
       "      <th>1599</th>\n",
       "      <td>\\nI will try to answer some of Dorin's questio...</td>\n",
       "      <td>0</td>\n",
       "      <td>train</td>\n",
       "      <td>[tri, answer, dorin, question, address, specif...</td>\n",
       "      <td>[(1, 1), (10, 1), (11, 1), (18, 2), (19, 1), (...</td>\n",
       "      <td>0.0</td>\n",
       "      <td>0.0</td>\n",
       "      <td>0.0</td>\n",
       "      <td>0.000000</td>\n",
       "      <td>0.086946</td>\n",
       "      <td>...</td>\n",
       "      <td>0.0</td>\n",
       "      <td>0.000000</td>\n",
       "      <td>0.000000</td>\n",
       "      <td>0.0</td>\n",
       "      <td>0.0</td>\n",
       "      <td>0.000000</td>\n",
       "      <td>0.0</td>\n",
       "      <td>0.0</td>\n",
       "      <td>0.0</td>\n",
       "      <td>0.0</td>\n",
       "    </tr>\n",
       "    <tr>\n",
       "      <th>187</th>\n",
       "      <td>\\nThe Greeks did try to invade Cyprus just bef...</td>\n",
       "      <td>0</td>\n",
       "      <td>train</td>\n",
       "      <td>[greek, tri, invad, cypru, turkish, intervent,...</td>\n",
       "      <td>[(90, 1), (475, 1), (776, 1), (855, 1), (2370,...</td>\n",
       "      <td>0.0</td>\n",
       "      <td>0.0</td>\n",
       "      <td>0.0</td>\n",
       "      <td>0.000000</td>\n",
       "      <td>0.000000</td>\n",
       "      <td>...</td>\n",
       "      <td>0.0</td>\n",
       "      <td>0.000000</td>\n",
       "      <td>0.559936</td>\n",
       "      <td>0.0</td>\n",
       "      <td>0.0</td>\n",
       "      <td>0.000000</td>\n",
       "      <td>0.0</td>\n",
       "      <td>0.0</td>\n",
       "      <td>0.0</td>\n",
       "      <td>0.0</td>\n",
       "    </tr>\n",
       "    <tr>\n",
       "      <th>2123</th>\n",
       "      <td>\\n  This is the latest from UPI \\n     Foreign...</td>\n",
       "      <td>0</td>\n",
       "      <td>train</td>\n",
       "      <td>[late, upi, foreign, ministri, spokesman, ferh...</td>\n",
       "      <td>[(60, 1), (78, 1), (87, 1), (118, 1), (188, 1)...</td>\n",
       "      <td>0.0</td>\n",
       "      <td>0.0</td>\n",
       "      <td>0.0</td>\n",
       "      <td>0.246766</td>\n",
       "      <td>0.382076</td>\n",
       "      <td>...</td>\n",
       "      <td>0.0</td>\n",
       "      <td>0.000000</td>\n",
       "      <td>0.000000</td>\n",
       "      <td>0.0</td>\n",
       "      <td>0.0</td>\n",
       "      <td>0.349765</td>\n",
       "      <td>0.0</td>\n",
       "      <td>0.0</td>\n",
       "      <td>0.0</td>\n",
       "      <td>0.0</td>\n",
       "    </tr>\n",
       "    <tr>\n",
       "      <th>1362</th>\n",
       "      <td>\\nDon't swallow propaganda as truth Sir. Briti...</td>\n",
       "      <td>0</td>\n",
       "      <td>train</td>\n",
       "      <td>[swallow, propaganda, truth, sir, british, pro...</td>\n",
       "      <td>[(18, 1), (24, 2), (37, 3), (39, 1), (43, 1), ...</td>\n",
       "      <td>0.0</td>\n",
       "      <td>0.0</td>\n",
       "      <td>0.0</td>\n",
       "      <td>0.238983</td>\n",
       "      <td>0.000000</td>\n",
       "      <td>...</td>\n",
       "      <td>0.0</td>\n",
       "      <td>0.000000</td>\n",
       "      <td>0.000000</td>\n",
       "      <td>0.0</td>\n",
       "      <td>0.0</td>\n",
       "      <td>0.000000</td>\n",
       "      <td>0.0</td>\n",
       "      <td>0.0</td>\n",
       "      <td>0.0</td>\n",
       "      <td>0.0</td>\n",
       "    </tr>\n",
       "    <tr>\n",
       "      <th>113</th>\n",
       "      <td>\\nThe donations are tax deductible like any do...</td>\n",
       "      <td>0</td>\n",
       "      <td>train</td>\n",
       "      <td>[donat, tax, deduct, like, donat, non-profit, ...</td>\n",
       "      <td>[(20, 1), (49, 1), (130, 1), (340, 1), (485, 1...</td>\n",
       "      <td>0.0</td>\n",
       "      <td>0.0</td>\n",
       "      <td>0.0</td>\n",
       "      <td>0.315975</td>\n",
       "      <td>0.000000</td>\n",
       "      <td>...</td>\n",
       "      <td>0.0</td>\n",
       "      <td>0.109086</td>\n",
       "      <td>0.000000</td>\n",
       "      <td>0.0</td>\n",
       "      <td>0.0</td>\n",
       "      <td>0.000000</td>\n",
       "      <td>0.0</td>\n",
       "      <td>0.0</td>\n",
       "      <td>0.0</td>\n",
       "      <td>0.0</td>\n",
       "    </tr>\n",
       "  </tbody>\n",
       "</table>\n",
       "<p>5 rows × 25 columns</p>\n",
       "</div>"
      ],
      "text/plain": [
       "                                                   text  class source  \\\n",
       "1599  \\nI will try to answer some of Dorin's questio...      0  train   \n",
       "187   \\nThe Greeks did try to invade Cyprus just bef...      0  train   \n",
       "2123  \\n  This is the latest from UPI \\n     Foreign...      0  train   \n",
       "1362  \\nDon't swallow propaganda as truth Sir. Briti...      0  train   \n",
       "113   \\nThe donations are tax deductible like any do...      0  train   \n",
       "\n",
       "                                         processed_text  \\\n",
       "1599  [tri, answer, dorin, question, address, specif...   \n",
       "187   [greek, tri, invad, cypru, turkish, intervent,...   \n",
       "2123  [late, upi, foreign, ministri, spokesman, ferh...   \n",
       "1362  [swallow, propaganda, truth, sir, british, pro...   \n",
       "113   [donat, tax, deduct, like, donat, non-profit, ...   \n",
       "\n",
       "                                               bow_text  topic_1  topic_2  \\\n",
       "1599  [(1, 1), (10, 1), (11, 1), (18, 2), (19, 1), (...      0.0      0.0   \n",
       "187   [(90, 1), (475, 1), (776, 1), (855, 1), (2370,...      0.0      0.0   \n",
       "2123  [(60, 1), (78, 1), (87, 1), (118, 1), (188, 1)...      0.0      0.0   \n",
       "1362  [(18, 1), (24, 2), (37, 3), (39, 1), (43, 1), ...      0.0      0.0   \n",
       "113   [(20, 1), (49, 1), (130, 1), (340, 1), (485, 1...      0.0      0.0   \n",
       "\n",
       "      topic_3   topic_4   topic_5  ...  topic_11  topic_12  topic_13  \\\n",
       "1599      0.0  0.000000  0.086946  ...       0.0  0.000000  0.000000   \n",
       "187       0.0  0.000000  0.000000  ...       0.0  0.000000  0.559936   \n",
       "2123      0.0  0.246766  0.382076  ...       0.0  0.000000  0.000000   \n",
       "1362      0.0  0.238983  0.000000  ...       0.0  0.000000  0.000000   \n",
       "113       0.0  0.315975  0.000000  ...       0.0  0.109086  0.000000   \n",
       "\n",
       "      topic_14  topic_15  topic_16  topic_17  topic_18  topic_19  topic_20  \n",
       "1599       0.0       0.0  0.000000       0.0       0.0       0.0       0.0  \n",
       "187        0.0       0.0  0.000000       0.0       0.0       0.0       0.0  \n",
       "2123       0.0       0.0  0.349765       0.0       0.0       0.0       0.0  \n",
       "1362       0.0       0.0  0.000000       0.0       0.0       0.0       0.0  \n",
       "113        0.0       0.0  0.000000       0.0       0.0       0.0       0.0  \n",
       "\n",
       "[5 rows x 25 columns]"
      ]
     },
     "execution_count": 69,
     "metadata": {},
     "output_type": "execute_result"
    }
   ],
   "source": [
    "'''Create a dataset of tf-idf embeddings, create one of topic embeddings''' \n",
    "\n",
    "\n",
    "df_train['bow_text'] = [dictionary.doc2bow(doc) for doc in df_train['processed_text']]\n",
    "df_test['bow_text'] = [dictionary.doc2bow(doc) for doc in df_test['processed_text']]\n",
    "\n",
    "\n",
    "df_train_sampled = sample_data(df_train, 0.2)\n",
    "embedded_data_train = embed_data(df_train_sampled, lda)\n",
    "\n",
    "df_test_sampled = sample_data(df_test, 0.2)\n",
    "embedded_data_test = embed_data(df_test_sampled, lda)\n",
    "\n",
    "embedded_data_train.head()"
   ]
  },
  {
   "cell_type": "markdown",
   "metadata": {},
   "source": [
    "Great, the data is looking good. Time for some classification. It's worth noting at this point that the tf-idf mappings and the topic model embeddings applied to the test set were built on only the training sets. Though in practical application, these mappings and embeddings could include test set info, it would skew model results. For the tf-idf mappings it would re-weight the features in the train set, and for the topic model embeddings it would potentially intorduce new topics which were unaccounted for in the initial selection of k=20 topics.\n",
    "<hr>"
   ]
  },
  {
   "cell_type": "markdown",
   "metadata": {},
   "source": [
    "## 2.5 Twin Classifiers: tf-idf Mappings vs Topic Embeddings\n",
    "Let's see how the two methods of encoding unstructured data fair against eachother, for an arbitrary subset of the total data.\n",
    "<hr>"
   ]
  },
  {
   "cell_type": "code",
   "execution_count": 70,
   "metadata": {},
   "outputs": [
    {
     "name": "stdout",
     "output_type": "stream",
     "text": [
      "[0]\tvalidation_0-merror:0.854701\n",
      "Will train until validation_0-merror hasn't improved in 50 rounds.\n",
      "[10]\tvalidation_0-merror:0.769231\n",
      "[20]\tvalidation_0-merror:0.717949\n",
      "[30]\tvalidation_0-merror:0.700855\n",
      "[40]\tvalidation_0-merror:0.692308\n",
      "[50]\tvalidation_0-merror:0.692308\n",
      "[60]\tvalidation_0-merror:0.683761\n",
      "[70]\tvalidation_0-merror:0.692308\n",
      "[80]\tvalidation_0-merror:0.709402\n",
      "Stopping. Best iteration:\n",
      "[37]\tvalidation_0-merror:0.683761\n",
      "\n",
      "Model accuracy: 0.317351598173516\n",
      "              precision    recall  f1-score   support\n",
      "\n",
      "           0       0.64      0.56      0.60        25\n",
      "           1       0.28      0.39      0.33        18\n",
      "           2       0.40      0.13      0.20        31\n",
      "           3       0.09      0.17      0.11        12\n",
      "           4       0.25      0.20      0.22        25\n",
      "           5       0.26      0.39      0.31        18\n",
      "           6       0.38      0.36      0.37        22\n",
      "           7       0.80      0.43      0.56        28\n",
      "           8       0.20      0.24      0.22        29\n",
      "           9       0.26      0.31      0.29        16\n",
      "          10       0.56      0.41      0.47        22\n",
      "          11       0.41      0.28      0.33        25\n",
      "          12       0.32      0.25      0.28        24\n",
      "          13       0.29      0.19      0.23        21\n",
      "          14       0.18      0.12      0.15        24\n",
      "          15       0.18      0.54      0.27        13\n",
      "          16       0.23      0.42      0.30        26\n",
      "          17       0.45      0.50      0.47        26\n",
      "          18       0.43      0.33      0.38        18\n",
      "          19       0.25      0.13      0.17        15\n",
      "\n",
      "    accuracy                           0.32       438\n",
      "   macro avg       0.34      0.32      0.31       438\n",
      "weighted avg       0.36      0.32      0.32       438\n",
      "\n"
     ]
    }
   ],
   "source": [
    "'''Create classifier and train on both data types'''\n",
    "\n",
    "\n",
    "'''Start with subsampled TFIDF'''\n",
    "\n",
    "dic_train = generate_vocabulary(embedded_data_train['processed_text'])\n",
    "dic_test = generate_vocabulary(embedded_data_test['processed_text'])\n",
    "\n",
    "\n",
    "vectorizer = TfidfVectorizer(vocabulary=dic_train)\n",
    "vectorizer.fit_transform(df_train.text)\n",
    "X_train, y_train = vectorizer.transform(embedded_data_train.text), embedded_data_train['class']\n",
    "X_test , y_test  = vectorizer.transform(embedded_data_test.text) , embedded_data_test['class']\n",
    "\n",
    "X_train, X_val, y_train, y_val = train_test_split(X_train, y_train, test_size=0.2, random_state=42)\n",
    "model_sample = xgb.XGBClassifier(objective='multi:softmax', random_state=42, max_depth=10)\n",
    "model.fit(X_train, y_train, early_stopping_rounds=50, eval_set=[(X_val, y_val)], verbose=10)\n",
    "\n",
    "y_pred  = model.predict(X_test)\n",
    "acc     = accuracy_score(y_test, y_pred)\n",
    "\n",
    "print(\"Model accuracy: {}\".format(acc))\n",
    "print(classification_report(y_test, y_pred))\n",
    "\n",
    "\n"
   ]
  },
  {
   "cell_type": "code",
   "execution_count": 74,
   "metadata": {},
   "outputs": [
    {
     "name": "stdout",
     "output_type": "stream",
     "text": [
      "[0]\tvalidation_0-merror:0.957265\n",
      "Will train until validation_0-merror hasn't improved in 50 rounds.\n",
      "[10]\tvalidation_0-merror:0.982906\n",
      "[20]\tvalidation_0-merror:0.982906\n",
      "[30]\tvalidation_0-merror:0.965812\n",
      "[40]\tvalidation_0-merror:0.982906\n",
      "[50]\tvalidation_0-merror:0.957265\n",
      "Stopping. Best iteration:\n",
      "[0]\tvalidation_0-merror:0.957265\n",
      "\n",
      "Model accuracy: 0.06621004566210045\n",
      "              precision    recall  f1-score   support\n",
      "\n",
      "           0       0.07      0.12      0.09        25\n",
      "           1       0.00      0.00      0.00        18\n",
      "           2       0.12      0.03      0.05        31\n",
      "           3       0.04      0.17      0.07        12\n",
      "           4       0.00      0.00      0.00        25\n",
      "           5       0.00      0.00      0.00        18\n",
      "           6       0.09      0.09      0.09        22\n",
      "           7       0.00      0.00      0.00        28\n",
      "           8       0.14      0.07      0.09        29\n",
      "           9       0.02      0.06      0.03        16\n",
      "          10       0.18      0.09      0.12        22\n",
      "          11       0.12      0.24      0.16        25\n",
      "          12       0.14      0.04      0.06        24\n",
      "          13       0.06      0.05      0.05        21\n",
      "          14       0.12      0.04      0.06        24\n",
      "          15       0.00      0.00      0.00        13\n",
      "          16       0.08      0.15      0.11        26\n",
      "          17       0.18      0.12      0.14        26\n",
      "          18       0.00      0.00      0.00        18\n",
      "          19       0.00      0.00      0.00        15\n",
      "\n",
      "    accuracy                           0.07       438\n",
      "   macro avg       0.07      0.06      0.06       438\n",
      "weighted avg       0.08      0.07      0.06       438\n",
      "\n"
     ]
    }
   ],
   "source": [
    "'''Now using Topic Embeddings'''\n",
    "\n",
    "\n",
    "X_train, y_train = embedded_data_train[embedded_data_train.columns[5:]], embedded_data_train['class']\n",
    "X_test, y_test = embedded_data_test[embedded_data_train.columns[5:]], embedded_data_test['class']\n",
    "\n",
    "\n",
    "X_train, X_val, y_train, y_val = train_test_split(X_train, y_train, test_size=0.2, random_state=42)\n",
    "model_lda = xgb.XGBClassifier(objective='multi:softmax', random_state=42, max_depth=10)\n",
    "model.fit(X_train, y_train, early_stopping_rounds=50, eval_set=[(X_val, y_val)], verbose=10)\n",
    "\n",
    "y_pred  = model.predict(X_test)\n",
    "acc     = accuracy_score(y_test, y_pred)\n",
    "\n",
    "print(\"Model accuracy: {}\".format(acc))\n",
    "print(classification_report(y_test, y_pred))"
   ]
  },
  {
   "cell_type": "markdown",
   "metadata": {},
   "source": [
    "## Saving the LDA Model for Later\n",
    "\n"
   ]
  },
  {
   "cell_type": "code",
   "execution_count": 75,
   "metadata": {},
   "outputs": [],
   "source": [
    "lda.save('lda_model')\n",
    "dictionary.save_as_text('lda_dict.txt')\n",
    "\n",
    "'How to Load it Back In'\n",
    "# gensim.models.LdaModel.load('lda_model')\n",
    "# gensim.corpora.dictionary.Dictionary.load_from_text('lda_dict.txt')"
   ]
  }
 ],
 "metadata": {
  "kernelspec": {
   "display_name": "Python 3",
   "language": "python",
   "name": "python3"
  },
  "language_info": {
   "codemirror_mode": {
    "name": "ipython",
    "version": 3
   },
   "file_extension": ".py",
   "mimetype": "text/x-python",
   "name": "python",
   "nbconvert_exporter": "python",
   "pygments_lexer": "ipython3",
   "version": "3.6.8"
  }
 },
 "nbformat": 4,
 "nbformat_minor": 2
}